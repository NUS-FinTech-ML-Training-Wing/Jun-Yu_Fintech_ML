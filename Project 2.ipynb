{
 "cells": [
  {
   "cell_type": "markdown",
   "metadata": {},
   "source": [
    "This notebook for sentiment analysis is inspired by [this article](https://medium.com/the-innovation/sentiment-analysis-using-lightgbm-alternative-approach-to-rnn-and-lstm-55ee6f32e066). \n",
    "\n",
    "We will be training a LightGBM model to perform this multiclass prediction task. Hyperparameters will be tuned by Optuna."
   ]
  },
  {
   "cell_type": "code",
   "execution_count": 1,
   "metadata": {},
   "outputs": [],
   "source": [
    "import pandas as pd\n",
    "import numpy as np\n",
    "import matplotlib.pyplot as plt\n",
    "import seaborn as sns\n",
    "import string, re\n",
    "import spacy\n",
    "\n",
    "import nltk\n",
    "from nltk.corpus import stopwords\n",
    "from spacy.lemmatizer import Lemmatizer\n",
    "from spacy.lookups import Lookups\n",
    "from textblob import TextBlob\n",
    "import en_core_web_sm\n",
    "\n",
    "from sklearn.feature_extraction.text import TfidfVectorizer, CountVectorizer\n",
    "from sklearn.model_selection import train_test_split\n",
    "from sklearn.preprocessing import StandardScaler, label_binarize\n",
    "from sklearn.metrics import log_loss, f1_score, classification_report, confusion_matrix, \\\n",
    "roc_auc_score, precision_score, accuracy_score, f1_score, recall_score, plot_roc_curve, roc_curve, auc\n",
    "\n",
    "import tensorflow_hub as hub\n",
    "import lightgbm as lgb\n",
    "import optuna"
   ]
  },
  {
   "cell_type": "code",
   "execution_count": 2,
   "metadata": {},
   "outputs": [
    {
     "data": {
      "text/html": [
       "<div>\n",
       "<style scoped>\n",
       "    .dataframe tbody tr th:only-of-type {\n",
       "        vertical-align: middle;\n",
       "    }\n",
       "\n",
       "    .dataframe tbody tr th {\n",
       "        vertical-align: top;\n",
       "    }\n",
       "\n",
       "    .dataframe thead th {\n",
       "        text-align: right;\n",
       "    }\n",
       "</style>\n",
       "<table border=\"1\" class=\"dataframe\">\n",
       "  <thead>\n",
       "    <tr style=\"text-align: right;\">\n",
       "      <th></th>\n",
       "      <th>text</th>\n",
       "      <th>sentiment</th>\n",
       "    </tr>\n",
       "  </thead>\n",
       "  <tbody>\n",
       "    <tr>\n",
       "      <th>0</th>\n",
       "      <td>In addition , a further 29 employees can be la...</td>\n",
       "      <td>-1</td>\n",
       "    </tr>\n",
       "    <tr>\n",
       "      <th>1</th>\n",
       "      <td>The authorisation is in force until the end of...</td>\n",
       "      <td>0</td>\n",
       "    </tr>\n",
       "    <tr>\n",
       "      <th>2</th>\n",
       "      <td>The value of the deal was not disclosed .</td>\n",
       "      <td>0</td>\n",
       "    </tr>\n",
       "    <tr>\n",
       "      <th>3</th>\n",
       "      <td>You need to be ready when the window opens up ...</td>\n",
       "      <td>0</td>\n",
       "    </tr>\n",
       "    <tr>\n",
       "      <th>4</th>\n",
       "      <td>Major Order in India Comptel Corporation has r...</td>\n",
       "      <td>1</td>\n",
       "    </tr>\n",
       "    <tr>\n",
       "      <th>...</th>\n",
       "      <td>...</td>\n",
       "      <td>...</td>\n",
       "    </tr>\n",
       "    <tr>\n",
       "      <th>3188</th>\n",
       "      <td>The Insolvency Act regulates the amount of deb...</td>\n",
       "      <td>0</td>\n",
       "    </tr>\n",
       "    <tr>\n",
       "      <th>3189</th>\n",
       "      <td>We have also cut our price projections for pap...</td>\n",
       "      <td>-1</td>\n",
       "    </tr>\n",
       "    <tr>\n",
       "      <th>3190</th>\n",
       "      <td>Tyrvaan Sanomat , published twice a week by Ty...</td>\n",
       "      <td>0</td>\n",
       "    </tr>\n",
       "    <tr>\n",
       "      <th>3191</th>\n",
       "      <td>pct lower at 4,442.10 .</td>\n",
       "      <td>0</td>\n",
       "    </tr>\n",
       "    <tr>\n",
       "      <th>3192</th>\n",
       "      <td>Of course , you 'll have direct access to Noki...</td>\n",
       "      <td>0</td>\n",
       "    </tr>\n",
       "  </tbody>\n",
       "</table>\n",
       "<p>3193 rows × 2 columns</p>\n",
       "</div>"
      ],
      "text/plain": [
       "                                                   text  sentiment\n",
       "0     In addition , a further 29 employees can be la...         -1\n",
       "1     The authorisation is in force until the end of...          0\n",
       "2             The value of the deal was not disclosed .          0\n",
       "3     You need to be ready when the window opens up ...          0\n",
       "4     Major Order in India Comptel Corporation has r...          1\n",
       "...                                                 ...        ...\n",
       "3188  The Insolvency Act regulates the amount of deb...          0\n",
       "3189  We have also cut our price projections for pap...         -1\n",
       "3190  Tyrvaan Sanomat , published twice a week by Ty...          0\n",
       "3191                            pct lower at 4,442.10 .          0\n",
       "3192  Of course , you 'll have direct access to Noki...          0\n",
       "\n",
       "[3193 rows x 2 columns]"
      ]
     },
     "execution_count": 2,
     "metadata": {},
     "output_type": "execute_result"
    }
   ],
   "source": [
    "data = pd.read_csv(\"news_headlines_train.csv\")\n",
    "data"
   ]
  },
  {
   "cell_type": "markdown",
   "metadata": {},
   "source": [
    "# Preprocessing and Feature Engineering\n",
    "\n",
    "Here, we preprocess the data using the following techniques:\n",
    "- Set text to lowercase\n",
    "- replace the \" 's\" instances prevalent throughout the text\n",
    "- Removing punctuation\n",
    "- Removing stopwords\n",
    "- Lemmatization"
   ]
  },
  {
   "cell_type": "code",
   "execution_count": 3,
   "metadata": {},
   "outputs": [],
   "source": [
    "stop_words = stopwords.words(\"english\")\n",
    "\n",
    "sp = en_core_web_sm.load()\n",
    "lookups = Lookups()\n",
    "lemm = Lemmatizer(lookups)"
   ]
  },
  {
   "cell_type": "code",
   "execution_count": 4,
   "metadata": {},
   "outputs": [],
   "source": [
    "def remove_punctuation(text):\n",
    "    \n",
    "    punct = list(string.punctuation)\n",
    "    \n",
    "    for punctuation in punct:\n",
    "        text = text.replace(punctuation, ' ')\n",
    "    return text\n",
    "\n",
    "def remove_stopwords(text):\n",
    "    text_list = [word for word in text.split() if not word in stop_words]\n",
    "    return ' '.join(text_list)\n",
    "\n",
    "def lemmatize(text):\n",
    "    dummy = []    \n",
    "    for word in sp(text):\n",
    "        dummy.append(word.lemma_)\n",
    "    return ' '.join(dummy)\n",
    "\n",
    "def process_text(data, col):\n",
    "    \"\"\"\n",
    "    Processes the text by sowercase, replace \" 's\", remove punctuation, \n",
    "    remove stopwords and lemmatization.\n",
    "    \n",
    "    Parameters:\n",
    "    -----------\n",
    "        data (dataframe)\n",
    "        col (string): name of the Series containing text data to be processed\n",
    "        \n",
    "    Returns:\n",
    "    --------\n",
    "         df (dataframe): dataframe containing an additional column (token) for processed text\n",
    "    \"\"\"\n",
    "    df = data.copy()\n",
    "    df['token'] = df[col].apply(lambda x: x.lower())\n",
    "    df['token'] = df.token.apply(lambda x: x.replace(\" 's'\", \"\"))\n",
    "    df['token'] = df.token.apply(remove_punctuation)\n",
    "    \n",
    "    # removing stopwords\n",
    "    df[\"token\"] = df.token.apply(lambda x: remove_stopwords(x))\n",
    "    # lemmatization\n",
    "    df[\"token\"] = df.token.apply(lambda x: lemmatize(x))\n",
    "    \n",
    "    return df"
   ]
  },
  {
   "cell_type": "code",
   "execution_count": 5,
   "metadata": {},
   "outputs": [],
   "source": [
    "def feature_engineer(data):\n",
    "    \"\"\"\n",
    "    Processing for subjectivity, polarity, \n",
    "    sentence encoding, TF-IDF encoding and count vectorizer encoding.\n",
    "    \n",
    "    Parameters:\n",
    "    -----------\n",
    "        data (dataframe): dataframe containing the Series 'token'\n",
    "        \n",
    "    Returns:\n",
    "    --------\n",
    "         processed_sent_tfidf_count (dataframe): dataframe with features\n",
    "    \"\"\"\n",
    "    df = data.copy()\n",
    "    # subjectivity\n",
    "    df['subjectivity'] = df.token.apply(lambda text: TextBlob(text).sentiment.subjectivity)\n",
    "    # polarity\n",
    "    df['polarity'] = df.token.apply(lambda text: TextBlob(text).sentiment.polarity)\n",
    "    # processing polarity\n",
    "    df['analysis'] = df.polarity.apply(lambda score: 'Negative' if score < 0 else 'Neutral' if score == 0 else 'Positive')\n",
    "    dummy_val = pd.get_dummies(df['analysis'], prefix='analysis')\n",
    "    processed_df = pd.concat([df, dummy_val], axis=1)\n",
    "    processed_df = processed_df.drop(\"analysis\", axis=1)\n",
    "    \n",
    "    # sentence encoding\n",
    "    module_url = \"https://tfhub.dev/google/universal-sentence-encoder/4\"\n",
    "    model = hub.load(module_url)\n",
    "    sent = pd.DataFrame(np.array(model(processed_df.token)))\n",
    "    processed_sent = pd.merge(processed_df, sent, left_index=True, right_index=True)\n",
    "    \n",
    "    # TF-IDF encoding\n",
    "    tfidf = TfidfVectorizer(analyzer='word', ngram_range=(1, 10), max_features=1000)\n",
    "    features = tfidf.fit_transform(processed_df.token).toarray()\n",
    "    features_df = pd.DataFrame(features, columns=tfidf.get_feature_names())\n",
    "    processed_sent_tfidf = pd.merge(processed_sent, features_df, left_index=True, right_index=True)\n",
    "    \n",
    "    # Count vector encoding\n",
    "    countvec = CountVectorizer(analyzer='word', ngram_range=(1, 10), max_features=1000)\n",
    "    features = countvec.fit_transform(processed_df.token).toarray()\n",
    "    features_df = pd.DataFrame(features, columns=countvec.get_feature_names())\n",
    "    processed_sent_tfidf_count = pd.merge(processed_sent_tfidf, features_df, left_index=True, right_index=True)\n",
    "    \n",
    "    return processed_sent_tfidf_count"
   ]
  },
  {
   "cell_type": "code",
   "execution_count": 6,
   "metadata": {},
   "outputs": [],
   "source": [
    "data_proc = process_text(data, \"text\")\n",
    "data_eng = feature_engineer(data_proc)"
   ]
  },
  {
   "cell_type": "code",
   "execution_count": null,
   "metadata": {},
   "outputs": [],
   "source": [
    "# TRY DONT RUN THIS FIRST ---------\n",
    "processed_text = process_text(data, \"text\")\n",
    "# removing stopwords\n",
    "processed_text[\"token\"] = processed_text.token.apply(lambda x: remove_stopwords(x))\n",
    "# lemmatization\n",
    "processed_text[\"token\"] = processed_text.token.apply(lambda x: lemmatize(x))\n",
    "# subjectivity\n",
    "processed_text['subjectivity'] = processed_text[\"token\"].apply(lambda text: TextBlob(text).sentiment.subjectivity)\n",
    "# polarity\n",
    "processed_text['polarity'] = processed_text[\"token\"].apply(lambda text: TextBlob(text).sentiment.polarity)\n",
    "# processing polarity\n",
    "processed_text['analysis'] = processed_text['polarity'].apply(lambda score: 'Negative' if score < 0 else 'Neutral' if score == 0 else 'Positive')\n",
    "dummy_val = pd.get_dummies(processed_text['analysis'], prefix='analysis')\n",
    "processed_text = pd.concat([processed_text, dummy_val], axis=1)\n",
    "processed_text.drop(\"analysis\", axis=1, inplace=True)"
   ]
  },
  {
   "cell_type": "code",
   "execution_count": null,
   "metadata": {},
   "outputs": [],
   "source": [
    "processed_text.head()"
   ]
  },
  {
   "cell_type": "code",
   "execution_count": null,
   "metadata": {},
   "outputs": [],
   "source": [
    "# Sentence encoding\n",
    "module_url = \"https://tfhub.dev/google/universal-sentence-encoder/4\"\n",
    "model = hub.load(module_url)\n",
    "sent = pd.DataFrame(np.array(model(processed_text.token)))\n",
    "print(sent.shape)\n",
    "processed_sent = pd.merge(processed_text, sent, left_index=True, right_index=True)"
   ]
  },
  {
   "cell_type": "code",
   "execution_count": null,
   "metadata": {},
   "outputs": [],
   "source": [
    "processed_sent.head()"
   ]
  },
  {
   "cell_type": "code",
   "execution_count": null,
   "metadata": {},
   "outputs": [],
   "source": [
    "# TF-IDF encoding\n",
    "tfidf = TfidfVectorizer(analyzer='word', ngram_range=(1, 10), max_features=1000)\n",
    "features = tfidf.fit_transform(processed_text.token).toarray()\n",
    "features_df = pd.DataFrame(features, columns=tfidf.get_feature_names())\n",
    "print(features_df.shape)\n",
    "processed_sent_tfidf = pd.merge(processed_sent, features_df, left_index=True, right_index=True)"
   ]
  },
  {
   "cell_type": "code",
   "execution_count": null,
   "metadata": {},
   "outputs": [],
   "source": [
    "# Count vector encoding\n",
    "countvec = CountVectorizer(analyzer='word', ngram_range=(1, 10), max_features=1000)\n",
    "features = countvec.fit_transform(processed_text.token).toarray()\n",
    "features_df = pd.DataFrame(features, columns=countvec.get_feature_names())\n",
    "print(features_df.shape)\n",
    "processed_sent_tfidf_count = pd.merge(processed_sent_tfidf, features_df, left_index=True, right_index=True)\n",
    "# ------------------"
   ]
  },
  {
   "cell_type": "code",
   "execution_count": 7,
   "metadata": {},
   "outputs": [],
   "source": [
    "# train-test-split\n",
    "\n",
    "X = data_eng.drop([\"text\", \"sentiment\", \"token\"], axis=1)\n",
    "y = data_eng[\"sentiment\"] + 1 # adjust the label space as (0,1,2) because LGB can't take -1\n",
    "\n",
    "# training 60%, validation 20%, test 20%\n",
    "X_train, X_test, y_train, y_test = train_test_split(X, y, test_size=0.2, random_state=11)\n",
    "X_train, X_val, y_train, y_val = train_test_split(X_train, y_train, test_size=0.25, random_state=11)"
   ]
  },
  {
   "cell_type": "markdown",
   "metadata": {},
   "source": [
    "# Hyperparameter Optimization"
   ]
  },
  {
   "cell_type": "code",
   "execution_count": 8,
   "metadata": {
    "scrolled": true
   },
   "outputs": [
    {
     "name": "stderr",
     "output_type": "stream",
     "text": [
      "\u001b[32m[I 2020-11-14 14:37:15,932]\u001b[0m A new study created in memory with name: no-name-d521a8fd-8eb1-4de3-9fa0-02a66f4b9274\u001b[0m\n",
      "\u001b[32m[I 2020-11-14 14:37:16,920]\u001b[0m Trial 0 finished with value: 0.674318379880829 and parameters: {'lambda_l1': 0.08451279979606717, 'lambda_l2': 3.542536582539453e-05, 'num_leaves': 205, 'feature_fraction': 0.5014005784068217, 'bagging_fraction': 0.6771843311417529, 'bagging_freq': 2, 'min_child_samples': 59, 'max_depth': 5}. Best is trial 0 with value: 0.674318379880829.\u001b[0m\n",
      "\u001b[32m[I 2020-11-14 14:37:17,917]\u001b[0m Trial 1 finished with value: 0.6813121638020793 and parameters: {'lambda_l1': 0.002027086588610803, 'lambda_l2': 1.9703863289873658, 'num_leaves': 238, 'feature_fraction': 0.6397768846393576, 'bagging_fraction': 0.5818202779001234, 'bagging_freq': 3, 'min_child_samples': 88, 'max_depth': 64}. Best is trial 1 with value: 0.6813121638020793.\u001b[0m\n",
      "\u001b[32m[I 2020-11-14 14:37:32,202]\u001b[0m Trial 2 finished with value: 0.6378402938997926 and parameters: {'lambda_l1': 4.307151341996739e-06, 'lambda_l2': 0.00011990367609797027, 'num_leaves': 251, 'feature_fraction': 0.5750287915877034, 'bagging_fraction': 0.7503505788468268, 'bagging_freq': 5, 'min_child_samples': 8, 'max_depth': 73}. Best is trial 1 with value: 0.6813121638020793.\u001b[0m\n",
      "\u001b[32m[I 2020-11-14 14:37:38,949]\u001b[0m Trial 3 finished with value: 0.6529633273519401 and parameters: {'lambda_l1': 3.937651369750672e-07, 'lambda_l2': 6.032789576374162e-07, 'num_leaves': 168, 'feature_fraction': 0.9502844837318075, 'bagging_fraction': 0.4747252242740832, 'bagging_freq': 3, 'min_child_samples': 16, 'max_depth': 30}. Best is trial 1 with value: 0.6813121638020793.\u001b[0m\n",
      "\u001b[32m[I 2020-11-14 14:37:47,108]\u001b[0m Trial 4 finished with value: 0.6343153294842447 and parameters: {'lambda_l1': 0.004138547723324984, 'lambda_l2': 0.0003447832676244236, 'num_leaves': 182, 'feature_fraction': 0.4900407077815241, 'bagging_fraction': 0.4500457898721054, 'bagging_freq': 7, 'min_child_samples': 7, 'max_depth': 16}. Best is trial 1 with value: 0.6813121638020793.\u001b[0m\n",
      "\u001b[32m[I 2020-11-14 14:37:54,818]\u001b[0m Trial 5 finished with value: 0.6450816748004401 and parameters: {'lambda_l1': 0.000536610023743434, 'lambda_l2': 0.0005969848804651135, 'num_leaves': 54, 'feature_fraction': 0.8820793869038516, 'bagging_fraction': 0.8233523862250433, 'bagging_freq': 6, 'min_child_samples': 16, 'max_depth': 70}. Best is trial 1 with value: 0.6813121638020793.\u001b[0m\n",
      "\u001b[32m[I 2020-11-14 14:37:56,023]\u001b[0m Trial 6 finished with value: 0.6561488869928976 and parameters: {'lambda_l1': 4.498091086005857e-08, 'lambda_l2': 8.588441833798614e-05, 'num_leaves': 53, 'feature_fraction': 0.5489368711368627, 'bagging_fraction': 0.6647416285549566, 'bagging_freq': 2, 'min_child_samples': 65, 'max_depth': 37}. Best is trial 1 with value: 0.6813121638020793.\u001b[0m\n",
      "\u001b[32m[I 2020-11-14 14:38:00,528]\u001b[0m Trial 7 finished with value: 0.6581394621062743 and parameters: {'lambda_l1': 0.00011243567998462447, 'lambda_l2': 1.0516241711382454e-06, 'num_leaves': 232, 'feature_fraction': 0.8612754816873857, 'bagging_fraction': 0.8210786398840337, 'bagging_freq': 2, 'min_child_samples': 29, 'max_depth': 23}. Best is trial 1 with value: 0.6813121638020793.\u001b[0m\n",
      "\u001b[32m[I 2020-11-14 14:38:01,745]\u001b[0m Trial 8 finished with value: 0.6736974855249819 and parameters: {'lambda_l1': 0.0004284646430479038, 'lambda_l2': 0.002153143268264731, 'num_leaves': 23, 'feature_fraction': 0.6764027431784356, 'bagging_fraction': 0.6990125988322049, 'bagging_freq': 7, 'min_child_samples': 24, 'max_depth': 4}. Best is trial 1 with value: 0.6813121638020793.\u001b[0m\n",
      "\u001b[32m[I 2020-11-14 14:38:03,500]\u001b[0m Trial 9 finished with value: 0.6559195338331656 and parameters: {'lambda_l1': 1.4424827676681229e-06, 'lambda_l2': 0.01980085671957961, 'num_leaves': 134, 'feature_fraction': 0.8679514304757469, 'bagging_fraction': 0.6136553184163063, 'bagging_freq': 1, 'min_child_samples': 55, 'max_depth': 10}. Best is trial 1 with value: 0.6813121638020793.\u001b[0m\n",
      "\u001b[32m[I 2020-11-14 14:38:04,788]\u001b[0m Trial 10 finished with value: 0.6476959834975041 and parameters: {'lambda_l1': 1.5742469849431016, 'lambda_l2': 1.2189583802520108, 'num_leaves': 256, 'feature_fraction': 0.7182335468476624, 'bagging_fraction': 0.9838362960747227, 'bagging_freq': 4, 'min_child_samples': 100, 'max_depth': 99}. Best is trial 1 with value: 0.6813121638020793.\u001b[0m\n",
      "\u001b[32m[I 2020-11-14 14:38:05,549]\u001b[0m Trial 11 finished with value: 0.6578607848719837 and parameters: {'lambda_l1': 0.23381111443813582, 'lambda_l2': 7.172058257607915, 'num_leaves': 206, 'feature_fraction': 0.415395968395829, 'bagging_fraction': 0.5659278657769318, 'bagging_freq': 1, 'min_child_samples': 86, 'max_depth': 62}. Best is trial 1 with value: 0.6813121638020793.\u001b[0m\n",
      "\u001b[32m[I 2020-11-14 14:38:06,585]\u001b[0m Trial 12 finished with value: 0.6604210277348813 and parameters: {'lambda_l1': 0.03071536914129983, 'lambda_l2': 0.10418608480345211, 'num_leaves': 213, 'feature_fraction': 0.6723605808309937, 'bagging_fraction': 0.5342396991970522, 'bagging_freq': 3, 'min_child_samples': 82, 'max_depth': 91}. Best is trial 1 with value: 0.6813121638020793.\u001b[0m\n",
      "\u001b[32m[I 2020-11-14 14:38:07,343]\u001b[0m Trial 13 finished with value: 0.6676808297849908 and parameters: {'lambda_l1': 9.317105887099297, 'lambda_l2': 3.656460073962135e-08, 'num_leaves': 134, 'feature_fraction': 0.4165714026295413, 'bagging_fraction': 0.7548815777209001, 'bagging_freq': 3, 'min_child_samples': 71, 'max_depth': 45}. Best is trial 1 with value: 0.6813121638020793.\u001b[0m\n",
      "\u001b[32m[I 2020-11-14 14:38:08,555]\u001b[0m Trial 14 finished with value: 0.6507460216149895 and parameters: {'lambda_l1': 0.03445668082839638, 'lambda_l2': 4.1093423102192e-06, 'num_leaves': 173, 'feature_fraction': 0.604607886373649, 'bagging_fraction': 0.4004994322588602, 'bagging_freq': 2, 'min_child_samples': 46, 'max_depth': 56}. Best is trial 1 with value: 0.6813121638020793.\u001b[0m\n",
      "\u001b[32m[I 2020-11-14 14:38:09,662]\u001b[0m Trial 15 finished with value: 0.6494011631870166 and parameters: {'lambda_l1': 2.5015286310667154e-05, 'lambda_l2': 1.932778390728351e-05, 'num_leaves': 250, 'feature_fraction': 0.7584031686352761, 'bagging_fraction': 0.6144247259872708, 'bagging_freq': 4, 'min_child_samples': 100, 'max_depth': 85}. Best is trial 1 with value: 0.6813121638020793.\u001b[0m\n",
      "\u001b[32m[I 2020-11-14 14:38:11,851]\u001b[0m Trial 16 finished with value: 0.6673706875707044 and parameters: {'lambda_l1': 0.006102922221109687, 'lambda_l2': 1.421421451008289e-08, 'num_leaves': 98, 'feature_fraction': 0.4936228843974144, 'bagging_fraction': 0.933223336030323, 'bagging_freq': 1, 'min_child_samples': 44, 'max_depth': 43}. Best is trial 1 with value: 0.6813121638020793.\u001b[0m\n",
      "\u001b[32m[I 2020-11-14 14:38:12,762]\u001b[0m Trial 17 finished with value: 0.6541118920267329 and parameters: {'lambda_l1': 0.6213795244720169, 'lambda_l2': 0.011447447670094119, 'num_leaves': 209, 'feature_fraction': 0.5040474309892821, 'bagging_fraction': 0.5235629160724121, 'bagging_freq': 5, 'min_child_samples': 87, 'max_depth': 75}. Best is trial 1 with value: 0.6813121638020793.\u001b[0m\n",
      "\u001b[32m[I 2020-11-14 14:38:14,172]\u001b[0m Trial 18 finished with value: 0.6504042467810637 and parameters: {'lambda_l1': 0.005400345453824755, 'lambda_l2': 0.6422766815644061, 'num_leaves': 228, 'feature_fraction': 0.6384465271067988, 'bagging_fraction': 0.6238310182278638, 'bagging_freq': 2, 'min_child_samples': 71, 'max_depth': 55}. Best is trial 1 with value: 0.6813121638020793.\u001b[0m\n",
      "\u001b[32m[I 2020-11-14 14:38:15,364]\u001b[0m Trial 19 finished with value: 0.6587757512946283 and parameters: {'lambda_l1': 7.3028003410870355, 'lambda_l2': 1.7318274936478457e-07, 'num_leaves': 189, 'feature_fraction': 0.7738893984494837, 'bagging_fraction': 0.7837956029705303, 'bagging_freq': 3, 'min_child_samples': 57, 'max_depth': 65}. Best is trial 1 with value: 0.6813121638020793.\u001b[0m\n",
      "\u001b[32m[I 2020-11-14 14:38:17,209]\u001b[0m Trial 20 finished with value: 0.6685022170481979 and parameters: {'lambda_l1': 0.09190059221420906, 'lambda_l2': 2.3483038010171347e-05, 'num_leaves': 159, 'feature_fraction': 0.4006803245940206, 'bagging_fraction': 0.8961093363479448, 'bagging_freq': 5, 'min_child_samples': 42, 'max_depth': 83}. Best is trial 1 with value: 0.6813121638020793.\u001b[0m\n"
     ]
    },
    {
     "name": "stderr",
     "output_type": "stream",
     "text": [
      "\u001b[32m[I 2020-11-14 14:38:18,308]\u001b[0m Trial 21 finished with value: 0.6715386780277656 and parameters: {'lambda_l1': 0.0004957522893758777, 'lambda_l2': 0.003344979055252797, 'num_leaves': 9, 'feature_fraction': 0.6711472674970221, 'bagging_fraction': 0.6907402016159749, 'bagging_freq': 7, 'min_child_samples': 31, 'max_depth': 4}. Best is trial 1 with value: 0.6813121638020793.\u001b[0m\n",
      "\u001b[32m[I 2020-11-14 14:38:19,006]\u001b[0m Trial 22 finished with value: 0.6710266192330084 and parameters: {'lambda_l1': 6.670193168027152e-05, 'lambda_l2': 0.002120417066488674, 'num_leaves': 3, 'feature_fraction': 0.7476130718978691, 'bagging_fraction': 0.6945980011377281, 'bagging_freq': 4, 'min_child_samples': 34, 'max_depth': 3}. Best is trial 1 with value: 0.6813121638020793.\u001b[0m\n",
      "\u001b[32m[I 2020-11-14 14:38:20,105]\u001b[0m Trial 23 finished with value: 0.6592008568509408 and parameters: {'lambda_l1': 0.0011489921971986874, 'lambda_l2': 7.120421981931105, 'num_leaves': 90, 'feature_fraction': 0.6231304396942012, 'bagging_fraction': 0.6454024016863799, 'bagging_freq': 3, 'min_child_samples': 93, 'max_depth': 18}. Best is trial 1 with value: 0.6813121638020793.\u001b[0m\n",
      "\u001b[32m[I 2020-11-14 14:38:23,532]\u001b[0m Trial 24 finished with value: 0.6676940801541109 and parameters: {'lambda_l1': 0.012835020249900839, 'lambda_l2': 0.09436521237347482, 'num_leaves': 48, 'feature_fraction': 0.5454030182302219, 'bagging_fraction': 0.5677546576324257, 'bagging_freq': 6, 'min_child_samples': 21, 'max_depth': 28}. Best is trial 1 with value: 0.6813121638020793.\u001b[0m\n",
      "\u001b[32m[I 2020-11-14 14:38:24,134]\u001b[0m Trial 25 finished with value: 0.6728093644179096 and parameters: {'lambda_l1': 0.002469458319221978, 'lambda_l2': 6.637259716107483e-06, 'num_leaves': 25, 'feature_fraction': 0.7965543471900807, 'bagging_fraction': 0.7321286361086161, 'bagging_freq': 2, 'min_child_samples': 76, 'max_depth': 2}. Best is trial 1 with value: 0.6813121638020793.\u001b[0m\n",
      "\u001b[32m[I 2020-11-14 14:38:25,522]\u001b[0m Trial 26 finished with value: 0.6625339023563485 and parameters: {'lambda_l1': 1.3450563360058066e-05, 'lambda_l2': 0.0011006926984314018, 'num_leaves': 103, 'feature_fraction': 0.7044445432752249, 'bagging_fraction': 0.5708862716648095, 'bagging_freq': 1, 'min_child_samples': 63, 'max_depth': 11}. Best is trial 1 with value: 0.6813121638020793.\u001b[0m\n",
      "\u001b[32m[I 2020-11-14 14:38:26,970]\u001b[0m Trial 27 finished with value: 0.6552774728414626 and parameters: {'lambda_l1': 0.00017250965400251135, 'lambda_l2': 1.0674168656947363, 'num_leaves': 231, 'feature_fraction': 0.44931803953377225, 'bagging_fraction': 0.7126341521504528, 'bagging_freq': 3, 'min_child_samples': 49, 'max_depth': 51}. Best is trial 1 with value: 0.6813121638020793.\u001b[0m\n",
      "\u001b[32m[I 2020-11-14 14:38:29,342]\u001b[0m Trial 28 finished with value: 0.6627885072601477 and parameters: {'lambda_l1': 0.0942004357210739, 'lambda_l2': 0.08731095659267564, 'num_leaves': 196, 'feature_fraction': 0.5849312282165915, 'bagging_fraction': 0.6606296857661667, 'bagging_freq': 6, 'min_child_samples': 35, 'max_depth': 41}. Best is trial 1 with value: 0.6813121638020793.\u001b[0m\n",
      "\u001b[32m[I 2020-11-14 14:38:31,398]\u001b[0m Trial 29 finished with value: 0.6637528631450582 and parameters: {'lambda_l1': 2.2723582130731868, 'lambda_l2': 2.921139036199355e-05, 'num_leaves': 155, 'feature_fraction': 0.550438750405831, 'bagging_fraction': 0.7855625943912323, 'bagging_freq': 4, 'min_child_samples': 23, 'max_depth': 76}. Best is trial 1 with value: 0.6813121638020793.\u001b[0m\n",
      "\u001b[32m[I 2020-11-14 14:38:32,589]\u001b[0m Trial 30 finished with value: 0.6457188917805989 and parameters: {'lambda_l1': 6.300694035933098e-06, 'lambda_l2': 0.005822496416088701, 'num_leaves': 246, 'feature_fraction': 0.655961555475525, 'bagging_fraction': 0.4724754390866638, 'bagging_freq': 2, 'min_child_samples': 63, 'max_depth': 31}. Best is trial 1 with value: 0.6813121638020793.\u001b[0m\n",
      "\u001b[32m[I 2020-11-14 14:38:33,214]\u001b[0m Trial 31 finished with value: 0.669749682966744 and parameters: {'lambda_l1': 0.0019085467093087013, 'lambda_l2': 4.193507669534895e-06, 'num_leaves': 26, 'feature_fraction': 0.837142642717972, 'bagging_fraction': 0.7325632074143115, 'bagging_freq': 2, 'min_child_samples': 93, 'max_depth': 2}. Best is trial 1 with value: 0.6813121638020793.\u001b[0m\n",
      "\u001b[32m[I 2020-11-14 14:38:34,735]\u001b[0m Trial 32 finished with value: 0.6629729596225856 and parameters: {'lambda_l1': 0.0010125261165509964, 'lambda_l2': 0.00011023739758929079, 'num_leaves': 21, 'feature_fraction': 0.8256291480301693, 'bagging_fraction': 0.7401812975146275, 'bagging_freq': 2, 'min_child_samples': 80, 'max_depth': 8}. Best is trial 1 with value: 0.6813121638020793.\u001b[0m\n",
      "\u001b[32m[I 2020-11-14 14:38:36,651]\u001b[0m Trial 33 finished with value: 0.650377306868994 and parameters: {'lambda_l1': 0.02089536336551902, 'lambda_l2': 4.783455711039603e-06, 'num_leaves': 73, 'feature_fraction': 0.8026602422855045, 'bagging_fraction': 0.8457483418731842, 'bagging_freq': 3, 'min_child_samples': 74, 'max_depth': 17}. Best is trial 1 with value: 0.6813121638020793.\u001b[0m\n",
      "\u001b[32m[I 2020-11-14 14:38:38,213]\u001b[0m Trial 34 finished with value: 0.6714874425171721 and parameters: {'lambda_l1': 0.0029431742260824104, 'lambda_l2': 4.688164350465206e-07, 'num_leaves': 34, 'feature_fraction': 0.9667665580029674, 'bagging_fraction': 0.6904121712667688, 'bagging_freq': 1, 'min_child_samples': 76, 'max_depth': 13}. Best is trial 1 with value: 0.6813121638020793.\u001b[0m\n",
      "\u001b[32m[I 2020-11-14 14:38:38,803]\u001b[0m Trial 35 finished with value: 0.6608986049228404 and parameters: {'lambda_l1': 0.00023917496572054632, 'lambda_l2': 0.00027397896541693744, 'num_leaves': 70, 'feature_fraction': 0.7319029431852012, 'bagging_fraction': 0.7676838694149878, 'bagging_freq': 3, 'min_child_samples': 58, 'max_depth': 2}. Best is trial 1 with value: 0.6813121638020793.\u001b[0m\n",
      "\u001b[32m[I 2020-11-14 14:38:49,471]\u001b[0m Trial 36 finished with value: 0.6477336613196513 and parameters: {'lambda_l1': 4.831935427077506e-05, 'lambda_l2': 4.8229548791390636e-05, 'num_leaves': 117, 'feature_fraction': 0.9319930783607169, 'bagging_fraction': 0.5971338071364775, 'bagging_freq': 2, 'min_child_samples': 12, 'max_depth': 66}. Best is trial 1 with value: 0.6813121638020793.\u001b[0m\n",
      "\u001b[32m[I 2020-11-14 14:38:51,150]\u001b[0m Trial 37 finished with value: 0.6592962164469615 and parameters: {'lambda_l1': 0.11264193601181398, 'lambda_l2': 9.844625209493944e-06, 'num_leaves': 41, 'feature_fraction': 0.9068441614112615, 'bagging_fraction': 0.6439063745726075, 'bagging_freq': 7, 'min_child_samples': 67, 'max_depth': 22}. Best is trial 1 with value: 0.6813121638020793.\u001b[0m\n",
      "\u001b[32m[I 2020-11-14 14:38:52,591]\u001b[0m Trial 38 finished with value: 0.6671523916584451 and parameters: {'lambda_l1': 0.010410505866754571, 'lambda_l2': 8.34536604640431e-07, 'num_leaves': 64, 'feature_fraction': 0.7905595964749003, 'bagging_fraction': 0.8173690719229116, 'bagging_freq': 2, 'min_child_samples': 93, 'max_depth': 35}. Best is trial 1 with value: 0.6813121638020793.\u001b[0m\n",
      "\u001b[32m[I 2020-11-14 14:38:53,740]\u001b[0m Trial 39 finished with value: 0.6535732582017606 and parameters: {'lambda_l1': 1.0018676111448859e-06, 'lambda_l2': 0.00017211209396575204, 'num_leaves': 11, 'feature_fraction': 0.6983127046733894, 'bagging_fraction': 0.5201214278228692, 'bagging_freq': 3, 'min_child_samples': 52, 'max_depth': 7}. Best is trial 1 with value: 0.6813121638020793.\u001b[0m\n",
      "\u001b[32m[I 2020-11-14 14:38:54,835]\u001b[0m Trial 40 finished with value: 0.6564513370635325 and parameters: {'lambda_l1': 1.0721806910211429e-08, 'lambda_l2': 0.0006015159992868777, 'num_leaves': 224, 'feature_fraction': 0.46725301898704036, 'bagging_fraction': 0.7148614010178931, 'bagging_freq': 2, 'min_child_samples': 80, 'max_depth': 24}. Best is trial 1 with value: 0.6813121638020793.\u001b[0m\n",
      "\u001b[32m[I 2020-11-14 14:38:55,713]\u001b[0m Trial 41 finished with value: 0.6679029494243718 and parameters: {'lambda_l1': 0.00036152807192950403, 'lambda_l2': 0.0283602941717038, 'num_leaves': 5, 'feature_fraction': 0.6887875058404842, 'bagging_fraction': 0.6836753225854498, 'bagging_freq': 7, 'min_child_samples': 29, 'max_depth': 6}. Best is trial 1 with value: 0.6813121638020793.\u001b[0m\n",
      "\u001b[32m[I 2020-11-14 14:38:57,802]\u001b[0m Trial 42 finished with value: 0.6461107138072751 and parameters: {'lambda_l1': 0.0003768882471684167, 'lambda_l2': 0.0025565997483231674, 'num_leaves': 22, 'feature_fraction': 0.6592105773445525, 'bagging_fraction': 0.6650403264466545, 'bagging_freq': 7, 'min_child_samples': 38, 'max_depth': 15}. Best is trial 1 with value: 0.6813121638020793.\u001b[0m\n"
     ]
    },
    {
     "name": "stderr",
     "output_type": "stream",
     "text": [
      "\u001b[32m[I 2020-11-14 14:38:59,792]\u001b[0m Trial 43 finished with value: 0.6768572127033874 and parameters: {'lambda_l1': 0.00080494752936564, 'lambda_l2': 0.33164987190200007, 'num_leaves': 243, 'feature_fraction': 0.6040981158189681, 'bagging_fraction': 0.5922832883162404, 'bagging_freq': 6, 'min_child_samples': 9, 'max_depth': 4}. Best is trial 1 with value: 0.6813121638020793.\u001b[0m\n",
      "\u001b[32m[I 2020-11-14 14:39:04,023]\u001b[0m Trial 44 finished with value: 0.6746057159495181 and parameters: {'lambda_l1': 0.001302132814779608, 'lambda_l2': 2.832574290697692, 'num_leaves': 243, 'feature_fraction': 0.5300224465419668, 'bagging_fraction': 0.5863889854904547, 'bagging_freq': 6, 'min_child_samples': 11, 'max_depth': 58}. Best is trial 1 with value: 0.6813121638020793.\u001b[0m\n",
      "\u001b[32m[I 2020-11-14 14:39:14,018]\u001b[0m Trial 45 finished with value: 0.6517291012573102 and parameters: {'lambda_l1': 0.0009318910298824387, 'lambda_l2': 0.30239590523027243, 'num_leaves': 241, 'feature_fraction': 0.5276376986314594, 'bagging_fraction': 0.5866177390824622, 'bagging_freq': 6, 'min_child_samples': 5, 'max_depth': 59}. Best is trial 1 with value: 0.6813121638020793.\u001b[0m\n",
      "\u001b[32m[I 2020-11-14 14:39:18,147]\u001b[0m Trial 46 finished with value: 0.6774355750724474 and parameters: {'lambda_l1': 3.0144788595877497e-05, 'lambda_l2': 3.250487878643018, 'num_leaves': 254, 'feature_fraction': 0.6071787012860772, 'bagging_fraction': 0.5479653171060562, 'bagging_freq': 6, 'min_child_samples': 11, 'max_depth': 49}. Best is trial 1 with value: 0.6813121638020793.\u001b[0m\n",
      "\u001b[32m[I 2020-11-14 14:39:21,760]\u001b[0m Trial 47 finished with value: 0.6523631035825707 and parameters: {'lambda_l1': 9.83153860946707e-05, 'lambda_l2': 3.47597906365844, 'num_leaves': 256, 'feature_fraction': 0.5891161289636645, 'bagging_fraction': 0.4988639398559116, 'bagging_freq': 6, 'min_child_samples': 12, 'max_depth': 71}. Best is trial 1 with value: 0.6813121638020793.\u001b[0m\n",
      "\u001b[32m[I 2020-11-14 14:39:24,301]\u001b[0m Trial 48 finished with value: 0.646321898294368 and parameters: {'lambda_l1': 1.0368129572553131e-07, 'lambda_l2': 3.412984785938762, 'num_leaves': 219, 'feature_fraction': 0.613561479086871, 'bagging_fraction': 0.43073233658042354, 'bagging_freq': 5, 'min_child_samples': 16, 'max_depth': 49}. Best is trial 1 with value: 0.6813121638020793.\u001b[0m\n",
      "\u001b[32m[I 2020-11-14 14:39:30,813]\u001b[0m Trial 49 finished with value: 0.6295891676989646 and parameters: {'lambda_l1': 2.1746056170972592e-05, 'lambda_l2': 0.28479374338249874, 'num_leaves': 239, 'feature_fraction': 0.5718763513523353, 'bagging_fraction': 0.5378568973478054, 'bagging_freq': 6, 'min_child_samples': 9, 'max_depth': 79}. Best is trial 1 with value: 0.6813121638020793.\u001b[0m\n",
      "\u001b[32m[I 2020-11-14 14:39:32,891]\u001b[0m Trial 50 finished with value: 0.6530079100606675 and parameters: {'lambda_l1': 2.594514929547444e-06, 'lambda_l2': 9.517973752432772, 'num_leaves': 201, 'feature_fraction': 0.5242594638395741, 'bagging_fraction': 0.5488654018801825, 'bagging_freq': 5, 'min_child_samples': 19, 'max_depth': 100}. Best is trial 1 with value: 0.6813121638020793.\u001b[0m\n",
      "\u001b[32m[I 2020-11-14 14:39:39,376]\u001b[0m Trial 51 finished with value: 0.6493737735559139 and parameters: {'lambda_l1': 4.606359889957141e-05, 'lambda_l2': 2.2037819767368854, 'num_leaves': 256, 'feature_fraction': 0.6282125363054021, 'bagging_fraction': 0.6120298929183002, 'bagging_freq': 6, 'min_child_samples': 8, 'max_depth': 68}. Best is trial 1 with value: 0.6813121638020793.\u001b[0m\n",
      "\u001b[32m[I 2020-11-14 14:39:41,577]\u001b[0m Trial 52 finished with value: 0.6714138586292303 and parameters: {'lambda_l1': 0.00015111327286385865, 'lambda_l2': 0.43429193896339424, 'num_leaves': 215, 'feature_fraction': 0.574064787217729, 'bagging_fraction': 0.5007094215465688, 'bagging_freq': 7, 'min_child_samples': 26, 'max_depth': 61}. Best is trial 1 with value: 0.6813121638020793.\u001b[0m\n",
      "\u001b[32m[I 2020-11-14 14:39:45,155]\u001b[0m Trial 53 finished with value: 0.6516955279928457 and parameters: {'lambda_l1': 0.008110504291856575, 'lambda_l2': 1.4946688587246364, 'num_leaves': 235, 'feature_fraction': 0.4473849048788815, 'bagging_fraction': 0.6404619565053404, 'bagging_freq': 5, 'min_child_samples': 13, 'max_depth': 56}. Best is trial 1 with value: 0.6813121638020793.\u001b[0m\n",
      "\u001b[32m[I 2020-11-14 14:39:52,360]\u001b[0m Trial 54 finished with value: 0.6436686005070777 and parameters: {'lambda_l1': 9.240983868265456e-06, 'lambda_l2': 9.995054676747861, 'num_leaves': 249, 'feature_fraction': 0.5131921044893843, 'bagging_fraction': 0.5837434949195054, 'bagging_freq': 6, 'min_child_samples': 5, 'max_depth': 51}. Best is trial 1 with value: 0.6813121638020793.\u001b[0m\n",
      "\u001b[32m[I 2020-11-14 14:39:55,042]\u001b[0m Trial 55 finished with value: 0.6544664391570074 and parameters: {'lambda_l1': 0.04260070455952255, 'lambda_l2': 4.382061781995405, 'num_leaves': 190, 'feature_fraction': 0.6035238901348727, 'bagging_fraction': 0.6195604875999529, 'bagging_freq': 7, 'min_child_samples': 19, 'max_depth': 47}. Best is trial 1 with value: 0.6813121638020793.\u001b[0m\n",
      "\u001b[32m[I 2020-11-14 14:39:59,608]\u001b[0m Trial 56 finished with value: 0.6477122496383753 and parameters: {'lambda_l1': 0.0009589263655234193, 'lambda_l2': 0.18943088862936674, 'num_leaves': 224, 'feature_fraction': 0.6401399743048575, 'bagging_fraction': 0.5519810264642223, 'bagging_freq': 5, 'min_child_samples': 15, 'max_depth': 90}. Best is trial 1 with value: 0.6813121638020793.\u001b[0m\n",
      "\u001b[32m[I 2020-11-14 14:40:07,281]\u001b[0m Trial 57 finished with value: 0.635239404460321 and parameters: {'lambda_l1': 0.004297945873503445, 'lambda_l2': 0.0423576969812487, 'num_leaves': 177, 'feature_fraction': 0.5460830919545561, 'bagging_fraction': 0.5979837251670278, 'bagging_freq': 6, 'min_child_samples': 9, 'max_depth': 64}. Best is trial 1 with value: 0.6813121638020793.\u001b[0m\n",
      "\u001b[32m[I 2020-11-14 14:40:09,467]\u001b[0m Trial 58 finished with value: 0.6572332006803013 and parameters: {'lambda_l1': 0.4509800373030236, 'lambda_l2': 0.7899354236045425, 'num_leaves': 207, 'feature_fraction': 0.46844281482896344, 'bagging_fraction': 0.6671596238091293, 'bagging_freq': 4, 'min_child_samples': 24, 'max_depth': 54}. Best is trial 1 with value: 0.6813121638020793.\u001b[0m\n",
      "\u001b[32m[I 2020-11-14 14:40:15,914]\u001b[0m Trial 59 finished with value: 0.6378285909399044 and parameters: {'lambda_l1': 2.073447520883453e-05, 'lambda_l2': 1.5991874628860037, 'num_leaves': 244, 'feature_fraction': 0.4902709629537085, 'bagging_fraction': 0.46774651724271554, 'bagging_freq': 7, 'min_child_samples': 6, 'max_depth': 72}. Best is trial 1 with value: 0.6813121638020793.\u001b[0m\n",
      "\u001b[32m[I 2020-11-14 14:40:17,755]\u001b[0m Trial 60 finished with value: 0.6543412362821979 and parameters: {'lambda_l1': 0.0016375617812619048, 'lambda_l2': 0.00791921673818971, 'num_leaves': 146, 'feature_fraction': 0.6787551670604812, 'bagging_fraction': 0.5094225359152684, 'bagging_freq': 6, 'min_child_samples': 40, 'max_depth': 38}. Best is trial 1 with value: 0.6813121638020793.\u001b[0m\n",
      "\u001b[32m[I 2020-11-14 14:40:19,049]\u001b[0m Trial 61 finished with value: 0.6731840676589359 and parameters: {'lambda_l1': 0.0006165701771601012, 'lambda_l2': 8.51907057815321e-06, 'num_leaves': 255, 'feature_fraction': 0.7223557843704803, 'bagging_fraction': 0.6311644685540292, 'bagging_freq': 1, 'min_child_samples': 84, 'max_depth': 10}. Best is trial 1 with value: 0.6813121638020793.\u001b[0m\n",
      "\u001b[32m[I 2020-11-14 14:40:20,317]\u001b[0m Trial 62 finished with value: 0.6450073036554274 and parameters: {'lambda_l1': 0.000603531380506285, 'lambda_l2': 1.2628670278443729e-05, 'num_leaves': 254, 'feature_fraction': 0.6496363241561512, 'bagging_fraction': 0.6402114681379265, 'bagging_freq': 1, 'min_child_samples': 88, 'max_depth': 10}. Best is trial 1 with value: 0.6813121638020793.\u001b[0m\n",
      "\u001b[32m[I 2020-11-14 14:40:21,308]\u001b[0m Trial 63 finished with value: 0.6742429782982983 and parameters: {'lambda_l1': 0.00019760725726624968, 'lambda_l2': 3.893311107053172e-05, 'num_leaves': 232, 'feature_fraction': 0.7251593806850819, 'bagging_fraction': 0.5599076619638752, 'bagging_freq': 1, 'min_child_samples': 86, 'max_depth': 5}. Best is trial 1 with value: 0.6813121638020793.\u001b[0m\n",
      "\u001b[32m[I 2020-11-14 14:40:22,394]\u001b[0m Trial 64 finished with value: 0.6621973920442102 and parameters: {'lambda_l1': 0.00019886077712938336, 'lambda_l2': 8.112766040242376e-05, 'num_leaves': 235, 'feature_fraction': 0.7410951199504512, 'bagging_fraction': 0.5754922168952973, 'bagging_freq': 6, 'min_child_samples': 99, 'max_depth': 20}. Best is trial 1 with value: 0.6813121638020793.\u001b[0m\n"
     ]
    },
    {
     "name": "stderr",
     "output_type": "stream",
     "text": [
      "\u001b[32m[I 2020-11-14 14:40:23,408]\u001b[0m Trial 65 finished with value: 0.6540178436987913 and parameters: {'lambda_l1': 0.00010754793917052278, 'lambda_l2': 0.0010420086680628837, 'num_leaves': 230, 'feature_fraction': 0.5577177791372656, 'bagging_fraction': 0.5591003069755159, 'bagging_freq': 5, 'min_child_samples': 90, 'max_depth': 59}. Best is trial 1 with value: 0.6813121638020793.\u001b[0m\n",
      "\u001b[32m[I 2020-11-14 14:40:24,296]\u001b[0m Trial 66 finished with value: 0.664653475717918 and parameters: {'lambda_l1': 5.7035302503988295e-05, 'lambda_l2': 2.7378679410984084e-05, 'num_leaves': 215, 'feature_fraction': 0.6064198750586068, 'bagging_fraction': 0.598206774677884, 'bagging_freq': 7, 'min_child_samples': 96, 'max_depth': 5}. Best is trial 1 with value: 0.6813121638020793.\u001b[0m\n",
      "\u001b[32m[I 2020-11-14 14:40:29,008]\u001b[0m Trial 67 finished with value: 0.6563567258256404 and parameters: {'lambda_l1': 0.0036170195888852673, 'lambda_l2': 1.4888157868107256e-06, 'num_leaves': 245, 'feature_fraction': 0.7035427962120613, 'bagging_fraction': 0.5358626654576779, 'bagging_freq': 1, 'min_child_samples': 17, 'max_depth': 13}. Best is trial 1 with value: 0.6813121638020793.\u001b[0m\n",
      "\u001b[32m[I 2020-11-14 14:40:35,326]\u001b[0m Trial 68 finished with value: 0.6458092482359219 and parameters: {'lambda_l1': 0.017063189600703202, 'lambda_l2': 2.3556959250179856e-06, 'num_leaves': 223, 'feature_fraction': 0.67368216627913, 'bagging_fraction': 0.483883768013957, 'bagging_freq': 3, 'min_child_samples': 11, 'max_depth': 75}. Best is trial 1 with value: 0.6813121638020793.\u001b[0m\n",
      "\u001b[32m[I 2020-11-14 14:40:36,930]\u001b[0m Trial 69 finished with value: 0.6864696801647412 and parameters: {'lambda_l1': 3.7838762230735277e-06, 'lambda_l2': 5.533558574907331, 'num_leaves': 204, 'feature_fraction': 0.7625087163682107, 'bagging_fraction': 0.6117164024996633, 'bagging_freq': 6, 'min_child_samples': 47, 'max_depth': 61}. Best is trial 69 with value: 0.6864696801647412.\u001b[0m\n",
      "\u001b[32m[I 2020-11-14 14:40:38,300]\u001b[0m Trial 70 finished with value: 0.6621723733274943 and parameters: {'lambda_l1': 8.458126865637834e-07, 'lambda_l2': 0.6320504012169762, 'num_leaves': 186, 'feature_fraction': 0.7654353867759822, 'bagging_fraction': 0.6060724797771615, 'bagging_freq': 6, 'min_child_samples': 68, 'max_depth': 68}. Best is trial 69 with value: 0.6864696801647412.\u001b[0m\n",
      "\u001b[32m[I 2020-11-14 14:40:39,961]\u001b[0m Trial 71 finished with value: 0.6520048175623533 and parameters: {'lambda_l1': 3.889724441710104e-06, 'lambda_l2': 5.432590502191063, 'num_leaves': 163, 'feature_fraction': 0.6330985598563463, 'bagging_fraction': 0.7115173057041553, 'bagging_freq': 6, 'min_child_samples': 50, 'max_depth': 60}. Best is trial 69 with value: 0.6864696801647412.\u001b[0m\n",
      "\u001b[32m[I 2020-11-14 14:40:41,535]\u001b[0m Trial 72 finished with value: 0.6684810220586037 and parameters: {'lambda_l1': 2.2400263844232742e-07, 'lambda_l2': 5.1423067107480914e-05, 'num_leaves': 198, 'feature_fraction': 0.7143844112646561, 'bagging_fraction': 0.5628894061278138, 'bagging_freq': 4, 'min_child_samples': 57, 'max_depth': 54}. Best is trial 69 with value: 0.6864696801647412.\u001b[0m\n",
      "\u001b[32m[I 2020-11-14 14:40:43,358]\u001b[0m Trial 73 finished with value: 0.6534930320571567 and parameters: {'lambda_l1': 1.0438388332302943e-05, 'lambda_l2': 2.288394857331427, 'num_leaves': 205, 'feature_fraction': 0.7837125469569928, 'bagging_fraction': 0.6570516799032045, 'bagging_freq': 6, 'min_child_samples': 45, 'max_depth': 63}. Best is trial 69 with value: 0.6864696801647412.\u001b[0m\n",
      "\u001b[32m[I 2020-11-14 14:40:45,193]\u001b[0m Trial 74 finished with value: 0.6702191934390446 and parameters: {'lambda_l1': 2.8598074241077624e-05, 'lambda_l2': 7.213158804009983, 'num_leaves': 235, 'feature_fraction': 0.7495057732029419, 'bagging_fraction': 0.6255340546059389, 'bagging_freq': 7, 'min_child_samples': 35, 'max_depth': 57}. Best is trial 69 with value: 0.6864696801647412.\u001b[0m\n",
      "\u001b[32m[I 2020-11-14 14:40:46,777]\u001b[0m Trial 75 finished with value: 0.6794662918087532 and parameters: {'lambda_l1': 2.9513241199698177, 'lambda_l2': 0.00035179627618766397, 'num_leaves': 228, 'feature_fraction': 0.5895116706338512, 'bagging_fraction': 0.6795182230770804, 'bagging_freq': 5, 'min_child_samples': 31, 'max_depth': 66}. Best is trial 69 with value: 0.6864696801647412.\u001b[0m\n",
      "\u001b[32m[I 2020-11-14 14:40:48,062]\u001b[0m Trial 76 finished with value: 0.656832682561221 and parameters: {'lambda_l1': 2.4192249989739674, 'lambda_l2': 0.00022180975714726188, 'num_leaves': 212, 'feature_fraction': 0.5899228837775983, 'bagging_fraction': 0.6780727531374183, 'bagging_freq': 5, 'min_child_samples': 48, 'max_depth': 70}. Best is trial 69 with value: 0.6864696801647412.\u001b[0m\n",
      "\u001b[32m[I 2020-11-14 14:40:49,334]\u001b[0m Trial 77 finished with value: 0.648426676991387 and parameters: {'lambda_l1': 0.21008262838146294, 'lambda_l2': 0.0005329085788405527, 'num_leaves': 228, 'feature_fraction': 0.5385649192057181, 'bagging_fraction': 0.5863078172502204, 'bagging_freq': 5, 'min_child_samples': 60, 'max_depth': 65}. Best is trial 69 with value: 0.6864696801647412.\u001b[0m\n",
      "\u001b[32m[I 2020-11-14 14:40:50,690]\u001b[0m Trial 78 finished with value: 0.656900522999552 and parameters: {'lambda_l1': 5.8676168454026625, 'lambda_l2': 1.1634073222851426e-07, 'num_leaves': 241, 'feature_fraction': 0.6152591552599375, 'bagging_fraction': 0.521529444834783, 'bagging_freq': 6, 'min_child_samples': 28, 'max_depth': 79}. Best is trial 69 with value: 0.6864696801647412.\u001b[0m\n",
      "\u001b[32m[I 2020-11-14 14:40:51,903]\u001b[0m Trial 79 finished with value: 0.6499783080294437 and parameters: {'lambda_l1': 0.6108979990810347, 'lambda_l2': 0.8515481360856864, 'num_leaves': 219, 'feature_fraction': 0.5630530222727725, 'bagging_fraction': 0.5378312508071658, 'bagging_freq': 5, 'min_child_samples': 54, 'max_depth': 67}. Best is trial 69 with value: 0.6864696801647412.\u001b[0m\n",
      "\u001b[32m[I 2020-11-14 14:40:54,183]\u001b[0m Trial 80 finished with value: 0.6542076554035505 and parameters: {'lambda_l1': 0.0002773859265615664, 'lambda_l2': 0.13675101005799384, 'num_leaves': 194, 'feature_fraction': 0.5967042721943444, 'bagging_fraction': 0.5797420447594214, 'bagging_freq': 4, 'min_child_samples': 31, 'max_depth': 52}. Best is trial 69 with value: 0.6864696801647412.\u001b[0m\n",
      "\u001b[32m[I 2020-11-14 14:40:56,931]\u001b[0m Trial 81 finished with value: 0.6513014101988087 and parameters: {'lambda_l1': 0.0017862087656138653, 'lambda_l2': 6.315350544228442e-05, 'num_leaves': 246, 'feature_fraction': 0.6550894225091116, 'bagging_fraction': 0.7000639061959005, 'bagging_freq': 6, 'min_child_samples': 23, 'max_depth': 7}. Best is trial 69 with value: 0.6864696801647412.\u001b[0m\n",
      "\u001b[32m[I 2020-11-14 14:41:01,853]\u001b[0m Trial 82 finished with value: 0.6699312961013417 and parameters: {'lambda_l1': 7.961764525388031e-05, 'lambda_l2': 0.00017058014310041336, 'num_leaves': 250, 'feature_fraction': 0.6924544138013802, 'bagging_fraction': 0.6564109306548098, 'bagging_freq': 6, 'min_child_samples': 21, 'max_depth': 62}. Best is trial 69 with value: 0.6864696801647412.\u001b[0m\n",
      "\u001b[32m[I 2020-11-14 14:41:03,733]\u001b[0m Trial 83 finished with value: 0.6788399532734056 and parameters: {'lambda_l1': 0.04936261231679681, 'lambda_l2': 0.0013897904470944944, 'num_leaves': 238, 'feature_fraction': 0.5072779776407768, 'bagging_fraction': 0.6759949477596232, 'bagging_freq': 2, 'min_child_samples': 42, 'max_depth': 45}. Best is trial 69 with value: 0.6864696801647412.\u001b[0m\n",
      "\u001b[32m[I 2020-11-14 14:41:05,473]\u001b[0m Trial 84 finished with value: 0.6681781133646684 and parameters: {'lambda_l1': 0.047790130574198765, 'lambda_l2': 0.0013047319985030625, 'num_leaves': 238, 'feature_fraction': 0.5308397845479071, 'bagging_fraction': 0.6156689914022175, 'bagging_freq': 2, 'min_child_samples': 40, 'max_depth': 49}. Best is trial 69 with value: 0.6864696801647412.\u001b[0m\n",
      "\u001b[32m[I 2020-11-14 14:41:07,143]\u001b[0m Trial 85 finished with value: 0.6621917506224992 and parameters: {'lambda_l1': 1.768645167341292e-06, 'lambda_l2': 0.00045005443419042924, 'num_leaves': 228, 'feature_fraction': 0.4754873759675786, 'bagging_fraction': 0.7469875040503005, 'bagging_freq': 2, 'min_child_samples': 47, 'max_depth': 41}. Best is trial 69 with value: 0.6864696801647412.\u001b[0m\n",
      "\u001b[32m[I 2020-11-14 14:41:08,546]\u001b[0m Trial 86 finished with value: 0.6482703544997986 and parameters: {'lambda_l1': 0.2025290933381804, 'lambda_l2': 2.988758950771923, 'num_leaves': 220, 'feature_fraction': 0.5078250963675858, 'bagging_fraction': 0.7212191829083264, 'bagging_freq': 3, 'min_child_samples': 52, 'max_depth': 44}. Best is trial 69 with value: 0.6864696801647412.\u001b[0m\n"
     ]
    },
    {
     "name": "stderr",
     "output_type": "stream",
     "text": [
      "\u001b[32m[I 2020-11-14 14:41:09,691]\u001b[0m Trial 87 finished with value: 0.6762371604471147 and parameters: {'lambda_l1': 1.3889076753665979, 'lambda_l2': 1.2532785012497567, 'num_leaves': 231, 'feature_fraction': 0.4474106772094827, 'bagging_fraction': 0.5539912719278002, 'bagging_freq': 1, 'min_child_samples': 42, 'max_depth': 58}. Best is trial 69 with value: 0.6864696801647412.\u001b[0m\n",
      "\u001b[32m[I 2020-11-14 14:41:10,980]\u001b[0m Trial 88 finished with value: 0.6550540419340024 and parameters: {'lambda_l1': 0.9946818319717636, 'lambda_l2': 0.4707040465583889, 'num_leaves': 204, 'feature_fraction': 0.43029553870877907, 'bagging_fraction': 0.6726722205207053, 'bagging_freq': 2, 'min_child_samples': 42, 'max_depth': 58}. Best is trial 69 with value: 0.6864696801647412.\u001b[0m\n",
      "\u001b[32m[I 2020-11-14 14:41:11,922]\u001b[0m Trial 89 finished with value: 0.6472695383193741 and parameters: {'lambda_l1': 7.650583840736975, 'lambda_l2': 1.29953698035158, 'num_leaves': 211, 'feature_fraction': 0.40428450859642995, 'bagging_fraction': 0.6306247132142124, 'bagging_freq': 3, 'min_child_samples': 37, 'max_depth': 47}. Best is trial 69 with value: 0.6864696801647412.\u001b[0m\n",
      "\u001b[32m[I 2020-11-14 14:41:12,981]\u001b[0m Trial 90 finished with value: 0.6607996188419084 and parameters: {'lambda_l1': 3.121636406593369, 'lambda_l2': 5.8406569941916455, 'num_leaves': 256, 'feature_fraction': 0.4350349174506886, 'bagging_fraction': 0.5428940954892596, 'bagging_freq': 5, 'min_child_samples': 43, 'max_depth': 54}. Best is trial 69 with value: 0.6864696801647412.\u001b[0m\n",
      "\u001b[32m[I 2020-11-14 14:41:14,185]\u001b[0m Trial 91 finished with value: 0.6503836877445663 and parameters: {'lambda_l1': 1.0481316996728496, 'lambda_l2': 1.8203030927604412e-05, 'num_leaves': 231, 'feature_fraction': 0.47589213024737154, 'bagging_fraction': 0.5670248857357765, 'bagging_freq': 1, 'min_child_samples': 45, 'max_depth': 62}. Best is trial 69 with value: 0.6864696801647412.\u001b[0m\n",
      "\u001b[32m[I 2020-11-14 14:41:15,945]\u001b[0m Trial 92 finished with value: 0.6638205725839378 and parameters: {'lambda_l1': 0.006202707461857346, 'lambda_l2': 0.00011990383086636768, 'num_leaves': 240, 'feature_fraction': 0.5145251260394886, 'bagging_fraction': 0.5915481267327799, 'bagging_freq': 1, 'min_child_samples': 39, 'max_depth': 57}. Best is trial 69 with value: 0.6864696801647412.\u001b[0m\n",
      "\u001b[32m[I 2020-11-14 14:41:17,501]\u001b[0m Trial 93 finished with value: 0.6439669460200298 and parameters: {'lambda_l1': 0.4248041377489578, 'lambda_l2': 2.0048518193529308, 'num_leaves': 249, 'feature_fraction': 0.4966716863001488, 'bagging_fraction': 0.6057031659316858, 'bagging_freq': 1, 'min_child_samples': 33, 'max_depth': 65}. Best is trial 69 with value: 0.6864696801647412.\u001b[0m\n",
      "\u001b[32m[I 2020-11-14 14:41:18,688]\u001b[0m Trial 94 finished with value: 0.6637543168128444 and parameters: {'lambda_l1': 0.02445669923928607, 'lambda_l2': 9.630010167115616, 'num_leaves': 226, 'feature_fraction': 0.5789827406905611, 'bagging_fraction': 0.5239650598957275, 'bagging_freq': 1, 'min_child_samples': 49, 'max_depth': 74}. Best is trial 69 with value: 0.6864696801647412.\u001b[0m\n",
      "\u001b[32m[I 2020-11-14 14:41:19,696]\u001b[0m Trial 95 finished with value: 0.6751474503834204 and parameters: {'lambda_l1': 0.06508637891661502, 'lambda_l2': 1.0209694329631869, 'num_leaves': 233, 'feature_fraction': 0.44960787889086923, 'bagging_fraction': 0.6511265140671288, 'bagging_freq': 2, 'min_child_samples': 82, 'max_depth': 69}. Best is trial 69 with value: 0.6864696801647412.\u001b[0m\n",
      "\u001b[32m[I 2020-11-14 14:41:20,695]\u001b[0m Trial 96 finished with value: 0.6625288327488552 and parameters: {'lambda_l1': 0.0922441233558887, 'lambda_l2': 0.3286078026623525, 'num_leaves': 217, 'feature_fraction': 0.45981013155348927, 'bagging_fraction': 0.64615767266851, 'bagging_freq': 2, 'min_child_samples': 79, 'max_depth': 69}. Best is trial 69 with value: 0.6864696801647412.\u001b[0m\n",
      "\u001b[32m[I 2020-11-14 14:41:22,430]\u001b[0m Trial 97 finished with value: 0.670254669235277 and parameters: {'lambda_l1': 0.0564498309039706, 'lambda_l2': 0.06219467988191976, 'num_leaves': 243, 'feature_fraction': 0.4864559673018073, 'bagging_fraction': 0.7023176368697637, 'bagging_freq': 2, 'min_child_samples': 42, 'max_depth': 72}. Best is trial 69 with value: 0.6864696801647412.\u001b[0m\n",
      "\u001b[32m[I 2020-11-14 14:41:23,497]\u001b[0m Trial 98 finished with value: 0.6595045333524759 and parameters: {'lambda_l1': 1.2998787469596005, 'lambda_l2': 1.0457927616088891, 'num_leaves': 179, 'feature_fraction': 0.42448060184989167, 'bagging_fraction': 0.6806773326883048, 'bagging_freq': 2, 'min_child_samples': 72, 'max_depth': 77}. Best is trial 69 with value: 0.6864696801647412.\u001b[0m\n",
      "\u001b[32m[I 2020-11-14 14:41:24,316]\u001b[0m Trial 99 finished with value: 0.6567618725134117 and parameters: {'lambda_l1': 4.710053735703699, 'lambda_l2': 0.201196126743654, 'num_leaves': 236, 'feature_fraction': 0.4090123482436807, 'bagging_fraction': 0.650089612188899, 'bagging_freq': 3, 'min_child_samples': 83, 'max_depth': 60}. Best is trial 69 with value: 0.6864696801647412.\u001b[0m\n",
      "\u001b[32m[I 2020-11-14 14:41:27,779]\u001b[0m Trial 100 finished with value: 0.6580169101213612 and parameters: {'lambda_l1': 0.14289892104856444, 'lambda_l2': 3.7485522166643848, 'num_leaves': 249, 'feature_fraction': 0.557060973685039, 'bagging_fraction': 0.6330733587070418, 'bagging_freq': 6, 'min_child_samples': 14, 'max_depth': 66}. Best is trial 69 with value: 0.6864696801647412.\u001b[0m\n",
      "\u001b[32m[I 2020-11-14 14:41:28,732]\u001b[0m Trial 101 finished with value: 0.6673359251333452 and parameters: {'lambda_l1': 0.011740311260361111, 'lambda_l2': 0.018277871948865747, 'num_leaves': 231, 'feature_fraction': 0.4470277389897333, 'bagging_fraction': 0.5506375130266462, 'bagging_freq': 2, 'min_child_samples': 85, 'max_depth': 53}. Best is trial 69 with value: 0.6864696801647412.\u001b[0m\n",
      "\u001b[32m[I 2020-11-14 14:41:29,674]\u001b[0m Trial 102 finished with value: 0.6683461007030876 and parameters: {'lambda_l1': 0.0026616430103806716, 'lambda_l2': 0.6040284553419628, 'num_leaves': 223, 'feature_fraction': 0.5168920230744477, 'bagging_fraction': 0.5788581828029585, 'bagging_freq': 1, 'min_child_samples': 92, 'max_depth': 56}. Best is trial 69 with value: 0.6864696801647412.\u001b[0m\n",
      "\u001b[32m[I 2020-11-14 14:41:30,680]\u001b[0m Trial 103 finished with value: 0.668539594590313 and parameters: {'lambda_l1': 0.0011718573170524558, 'lambda_l2': 2.5518238464561054, 'num_leaves': 237, 'feature_fraction': 0.6251428521721111, 'bagging_fraction': 0.6102100709738532, 'bagging_freq': 6, 'min_child_samples': 96, 'max_depth': 64}. Best is trial 69 with value: 0.6864696801647412.\u001b[0m\n",
      "\u001b[32m[I 2020-11-14 14:41:31,375]\u001b[0m Trial 104 finished with value: 0.6764361922552863 and parameters: {'lambda_l1': 0.29288803611529657, 'lambda_l2': 1.10062362701575, 'num_leaves': 254, 'feature_fraction': 0.4552661785382095, 'bagging_fraction': 0.5548215917728314, 'bagging_freq': 2, 'min_child_samples': 87, 'max_depth': 4}. Best is trial 69 with value: 0.6864696801647412.\u001b[0m\n",
      "\u001b[32m[I 2020-11-14 14:41:32,298]\u001b[0m Trial 105 finished with value: 0.6686308974318607 and parameters: {'lambda_l1': 0.3394729303903398, 'lambda_l2': 1.5395667168823672, 'num_leaves': 250, 'feature_fraction': 0.45673584811650725, 'bagging_fraction': 0.595989076436452, 'bagging_freq': 2, 'min_child_samples': 88, 'max_depth': 50}. Best is trial 69 with value: 0.6864696801647412.\u001b[0m\n",
      "\u001b[32m[I 2020-11-14 14:41:33,331]\u001b[0m Trial 106 finished with value: 0.6701702253420733 and parameters: {'lambda_l1': 0.07565641694455937, 'lambda_l2': 1.0478421300422878, 'num_leaves': 242, 'feature_fraction': 0.4974491598765633, 'bagging_fraction': 0.6904500683204801, 'bagging_freq': 2, 'min_child_samples': 90, 'max_depth': 47}. Best is trial 69 with value: 0.6864696801647412.\u001b[0m\n",
      "\u001b[32m[I 2020-11-14 14:41:34,167]\u001b[0m Trial 107 finished with value: 0.6567083412354572 and parameters: {'lambda_l1': 0.2969896120848113, 'lambda_l2': 4.243158204849537, 'num_leaves': 256, 'feature_fraction': 0.4377234310847905, 'bagging_fraction': 0.5055367786126548, 'bagging_freq': 2, 'min_child_samples': 81, 'max_depth': 70}. Best is trial 69 with value: 0.6864696801647412.\u001b[0m\n",
      "\u001b[32m[I 2020-11-14 14:41:34,981]\u001b[0m Trial 108 finished with value: 0.6505222444892608 and parameters: {'lambda_l1': 0.03182397555877386, 'lambda_l2': 6.867676903381121, 'num_leaves': 209, 'feature_fraction': 0.48239064915268676, 'bagging_fraction': 0.4871105332161938, 'bagging_freq': 3, 'min_child_samples': 77, 'max_depth': 61}. Best is trial 69 with value: 0.6864696801647412.\u001b[0m\n"
     ]
    },
    {
     "name": "stderr",
     "output_type": "stream",
     "text": [
      "\u001b[32m[I 2020-11-14 14:41:38,511]\u001b[0m Trial 109 finished with value: 0.6427654396900345 and parameters: {'lambda_l1': 0.760297911297571, 'lambda_l2': 0.208531931409313, 'num_leaves': 221, 'feature_fraction': 0.5374358709147813, 'bagging_fraction': 0.5693301344351511, 'bagging_freq': 2, 'min_child_samples': 11, 'max_depth': 58}. Best is trial 69 with value: 0.6864696801647412.\u001b[0m\n",
      "\u001b[32m[I 2020-11-14 14:41:39,580]\u001b[0m Trial 110 finished with value: 0.645619455980634 and parameters: {'lambda_l1': 1.4568062892863167, 'lambda_l2': 0.4392849288246415, 'num_leaves': 245, 'feature_fraction': 0.5670157998943878, 'bagging_fraction': 0.5255400583759999, 'bagging_freq': 4, 'min_child_samples': 55, 'max_depth': 67}. Best is trial 69 with value: 0.6864696801647412.\u001b[0m\n",
      "\u001b[32m[I 2020-11-14 14:41:40,187]\u001b[0m Trial 111 finished with value: 0.6753431365372419 and parameters: {'lambda_l1': 0.00046002207898264045, 'lambda_l2': 0.0003374223537248373, 'num_leaves': 232, 'feature_fraction': 0.4644854839137272, 'bagging_fraction': 0.5643329553987648, 'bagging_freq': 1, 'min_child_samples': 85, 'max_depth': 3}. Best is trial 69 with value: 0.6864696801647412.\u001b[0m\n",
      "\u001b[32m[I 2020-11-14 14:41:40,684]\u001b[0m Trial 112 finished with value: 0.6635653950108694 and parameters: {'lambda_l1': 0.00033171472890621885, 'lambda_l2': 0.0007832069256874829, 'num_leaves': 252, 'feature_fraction': 0.4568847651189579, 'bagging_fraction': 0.549596789992793, 'bagging_freq': 1, 'min_child_samples': 90, 'max_depth': 2}. Best is trial 69 with value: 0.6864696801647412.\u001b[0m\n",
      "\u001b[32m[I 2020-11-14 14:41:41,641]\u001b[0m Trial 113 finished with value: 0.6569080841437517 and parameters: {'lambda_l1': 0.0008323417332187354, 'lambda_l2': 0.0003337584953398269, 'num_leaves': 233, 'feature_fraction': 0.5013686860527027, 'bagging_fraction': 0.6229545826194729, 'bagging_freq': 6, 'min_child_samples': 96, 'max_depth': 9}. Best is trial 69 with value: 0.6864696801647412.\u001b[0m\n",
      "\u001b[32m[I 2020-11-14 14:41:42,303]\u001b[0m Trial 114 finished with value: 0.6696490207358785 and parameters: {'lambda_l1': 0.0005815008499110498, 'lambda_l2': 0.002009915817100977, 'num_leaves': 225, 'feature_fraction': 0.47215642824687337, 'bagging_fraction': 0.6657468884862723, 'bagging_freq': 2, 'min_child_samples': 84, 'max_depth': 3}. Best is trial 69 with value: 0.6864696801647412.\u001b[0m\n",
      "\u001b[32m[I 2020-11-14 14:41:46,788]\u001b[0m Trial 115 finished with value: 0.6613708892352733 and parameters: {'lambda_l1': 2.2471709489251195, 'lambda_l2': 1.7442968299721178, 'num_leaves': 215, 'feature_fraction': 0.8121130398765556, 'bagging_fraction': 0.5738915372698922, 'bagging_freq': 3, 'min_child_samples': 8, 'max_depth': 33}. Best is trial 69 with value: 0.6864696801647412.\u001b[0m\n",
      "\u001b[32m[I 2020-11-14 14:41:48,262]\u001b[0m Trial 116 finished with value: 0.6649821709361691 and parameters: {'lambda_l1': 0.19396953667879013, 'lambda_l2': 0.6858317535323557, 'num_leaves': 241, 'feature_fraction': 0.4203845425834358, 'bagging_fraction': 0.588099970847394, 'bagging_freq': 6, 'min_child_samples': 37, 'max_depth': 12}. Best is trial 69 with value: 0.6864696801647412.\u001b[0m\n",
      "\u001b[32m[I 2020-11-14 14:41:49,001]\u001b[0m Trial 117 finished with value: 0.6612455439607567 and parameters: {'lambda_l1': 3.5613070930458866e-05, 'lambda_l2': 2.5674719134781463, 'num_leaves': 237, 'feature_fraction': 0.4475394290650418, 'bagging_fraction': 0.6002596011437009, 'bagging_freq': 1, 'min_child_samples': 87, 'max_depth': 4}. Best is trial 69 with value: 0.6864696801647412.\u001b[0m\n",
      "\u001b[32m[I 2020-11-14 14:41:52,288]\u001b[0m Trial 118 finished with value: 0.648255466093802 and parameters: {'lambda_l1': 0.1246413807387228, 'lambda_l2': 0.005612407276771259, 'num_leaves': 227, 'feature_fraction': 0.6391989726630986, 'bagging_fraction': 0.5543941873854346, 'bagging_freq': 2, 'min_child_samples': 18, 'max_depth': 42}. Best is trial 69 with value: 0.6864696801647412.\u001b[0m\n",
      "\u001b[32m[I 2020-11-14 14:41:53,675]\u001b[0m Trial 119 finished with value: 0.6501966693294107 and parameters: {'lambda_l1': 5.315449511804261e-07, 'lambda_l2': 0.00014959446924094755, 'num_leaves': 256, 'feature_fraction': 0.5225991969110149, 'bagging_fraction': 0.5126002323324979, 'bagging_freq': 6, 'min_child_samples': 51, 'max_depth': 39}. Best is trial 69 with value: 0.6864696801647412.\u001b[0m\n",
      "\u001b[32m[I 2020-11-14 14:41:54,959]\u001b[0m Trial 120 finished with value: 0.6557220866922319 and parameters: {'lambda_l1': 0.004925198865081189, 'lambda_l2': 4.709218380405521, 'num_leaves': 171, 'feature_fraction': 0.5939911414839898, 'bagging_fraction': 0.6386070854015411, 'bagging_freq': 1, 'min_child_samples': 60, 'max_depth': 62}. Best is trial 69 with value: 0.6864696801647412.\u001b[0m\n",
      "\u001b[32m[I 2020-11-14 14:41:56,068]\u001b[0m Trial 121 finished with value: 0.6787661169086413 and parameters: {'lambda_l1': 0.06561695261494799, 'lambda_l2': 0.00023184445759983122, 'num_leaves': 230, 'feature_fraction': 0.7302573695053818, 'bagging_fraction': 0.5624183216461076, 'bagging_freq': 1, 'min_child_samples': 86, 'max_depth': 7}. Best is trial 69 with value: 0.6864696801647412.\u001b[0m\n",
      "\u001b[32m[I 2020-11-14 14:41:56,964]\u001b[0m Trial 122 finished with value: 0.6666150691015518 and parameters: {'lambda_l1': 0.016295438258678505, 'lambda_l2': 7.033716351154652e-05, 'num_leaves': 246, 'feature_fraction': 0.48498069706708125, 'bagging_fraction': 0.5324865101293487, 'bagging_freq': 1, 'min_child_samples': 83, 'max_depth': 7}. Best is trial 69 with value: 0.6864696801647412.\u001b[0m\n",
      "\u001b[32m[I 2020-11-14 14:41:58,044]\u001b[0m Trial 123 finished with value: 0.6549201704654756 and parameters: {'lambda_l1': 0.058117064189790166, 'lambda_l2': 0.0002677908453637707, 'num_leaves': 232, 'feature_fraction': 0.7536117219947911, 'bagging_fraction': 0.5624153921326053, 'bagging_freq': 1, 'min_child_samples': 89, 'max_depth': 26}. Best is trial 69 with value: 0.6864696801647412.\u001b[0m\n",
      "\u001b[32m[I 2020-11-14 14:41:59,354]\u001b[0m Trial 124 finished with value: 0.6586177235134828 and parameters: {'lambda_l1': 0.03647208467790838, 'lambda_l2': 0.0004993841496335005, 'num_leaves': 238, 'feature_fraction': 0.7367317969491756, 'bagging_fraction': 0.6134046402655327, 'bagging_freq': 1, 'min_child_samples': 92, 'max_depth': 16}. Best is trial 69 with value: 0.6864696801647412.\u001b[0m\n",
      "\u001b[32m[I 2020-11-14 14:41:59,941]\u001b[0m Trial 125 finished with value: 0.6486091322255594 and parameters: {'lambda_l1': 0.6028573196959328, 'lambda_l2': 1.077396343706009, 'num_leaves': 200, 'feature_fraction': 0.6164514577273188, 'bagging_fraction': 0.5812284587352073, 'bagging_freq': 2, 'min_child_samples': 78, 'max_depth': 2}. Best is trial 69 with value: 0.6864696801647412.\u001b[0m\n",
      "\u001b[32m[I 2020-11-14 14:42:01,004]\u001b[0m Trial 126 finished with value: 0.652307754610027 and parameters: {'lambda_l1': 5.415426207297236e-06, 'lambda_l2': 9.32017850538338, 'num_leaves': 218, 'feature_fraction': 0.7720332866728468, 'bagging_fraction': 0.543982730461667, 'bagging_freq': 6, 'min_child_samples': 86, 'max_depth': 8}. Best is trial 69 with value: 0.6864696801647412.\u001b[0m\n",
      "\u001b[32m[I 2020-11-14 14:42:02,190]\u001b[0m Trial 127 finished with value: 0.6704589753245548 and parameters: {'lambda_l1': 0.001327672169023721, 'lambda_l2': 0.00010618284226703913, 'num_leaves': 252, 'feature_fraction': 0.46390145581458575, 'bagging_fraction': 0.6562001760081417, 'bagging_freq': 3, 'min_child_samples': 74, 'max_depth': 14}. Best is trial 69 with value: 0.6864696801647412.\u001b[0m\n",
      "\u001b[32m[I 2020-11-14 14:42:03,600]\u001b[0m Trial 128 finished with value: 0.6850153493675301 and parameters: {'lambda_l1': 0.00014893941534570854, 'lambda_l2': 0.001510750072088893, 'num_leaves': 227, 'feature_fraction': 0.7128044862996328, 'bagging_fraction': 0.7299846990381339, 'bagging_freq': 2, 'min_child_samples': 82, 'max_depth': 64}. Best is trial 69 with value: 0.6864696801647412.\u001b[0m\n",
      "\u001b[32m[I 2020-11-14 14:42:04,749]\u001b[0m Trial 129 finished with value: 0.6655984932067659 and parameters: {'lambda_l1': 0.00013468262342160523, 'lambda_l2': 0.0016601055768387944, 'num_leaves': 227, 'feature_fraction': 0.7233960356506941, 'bagging_fraction': 0.5646511376908301, 'bagging_freq': 1, 'min_child_samples': 82, 'max_depth': 64}. Best is trial 69 with value: 0.6864696801647412.\u001b[0m\n",
      "\u001b[32m[I 2020-11-14 14:42:06,297]\u001b[0m Trial 130 finished with value: 0.6619705960329286 and parameters: {'lambda_l1': 0.0020664914624460157, 'lambda_l2': 0.0008473939150765274, 'num_leaves': 245, 'feature_fraction': 0.6644793262232415, 'bagging_fraction': 0.7746052796821649, 'bagging_freq': 5, 'min_child_samples': 80, 'max_depth': 60}. Best is trial 69 with value: 0.6864696801647412.\u001b[0m\n"
     ]
    },
    {
     "name": "stderr",
     "output_type": "stream",
     "text": [
      "\u001b[32m[I 2020-11-14 14:42:08,563]\u001b[0m Trial 131 finished with value: 0.6690012988729935 and parameters: {'lambda_l1': 0.0005470517244408843, 'lambda_l2': 0.0038588555267351525, 'num_leaves': 234, 'feature_fraction': 0.6849950852294957, 'bagging_fraction': 0.7056839631374672, 'bagging_freq': 2, 'min_child_samples': 46, 'max_depth': 68}. Best is trial 69 with value: 0.6864696801647412.\u001b[0m\n",
      "\u001b[32m[I 2020-11-14 14:42:11,857]\u001b[0m Trial 132 finished with value: 0.6714684592436453 and parameters: {'lambda_l1': 4.080565158936859, 'lambda_l2': 0.00038359580978116056, 'num_leaves': 123, 'feature_fraction': 0.5801457994625667, 'bagging_fraction': 0.724020223617683, 'bagging_freq': 2, 'min_child_samples': 5, 'max_depth': 5}. Best is trial 69 with value: 0.6864696801647412.\u001b[0m\n",
      "\u001b[32m[I 2020-11-14 14:42:13,531]\u001b[0m Trial 133 finished with value: 0.663229007648967 and parameters: {'lambda_l1': 0.00024072650874118465, 'lambda_l2': 0.0030761565565270666, 'num_leaves': 222, 'feature_fraction': 0.7062944718093777, 'bagging_fraction': 0.7326426171612767, 'bagging_freq': 2, 'min_child_samples': 85, 'max_depth': 71}. Best is trial 69 with value: 0.6864696801647412.\u001b[0m\n",
      "\u001b[32m[I 2020-11-14 14:42:18,484]\u001b[0m Trial 134 finished with value: 0.651624689591298 and parameters: {'lambda_l1': 0.1537186038827474, 'lambda_l2': 0.0007222593390886947, 'num_leaves': 230, 'feature_fraction': 0.4396303863832518, 'bagging_fraction': 0.6866929661896407, 'bagging_freq': 6, 'min_child_samples': 10, 'max_depth': 56}. Best is trial 69 with value: 0.6864696801647412.\u001b[0m\n",
      "\u001b[32m[I 2020-11-14 14:42:19,459]\u001b[0m Trial 135 finished with value: 0.6650994202862375 and parameters: {'lambda_l1': 0.07414439036797753, 'lambda_l2': 0.0014704818654288326, 'num_leaves': 239, 'feature_fraction': 0.5446831982826602, 'bagging_fraction': 0.5877833256773664, 'bagging_freq': 2, 'min_child_samples': 94, 'max_depth': 66}. Best is trial 69 with value: 0.6864696801647412.\u001b[0m\n",
      "\u001b[32m[I 2020-11-14 14:42:22,135]\u001b[0m Trial 136 finished with value: 0.6399042747162631 and parameters: {'lambda_l1': 1.2380191750501699e-05, 'lambda_l2': 0.00022633156527596346, 'num_leaves': 211, 'feature_fraction': 0.6450027324955304, 'bagging_fraction': 0.7604723754501767, 'bagging_freq': 2, 'min_child_samples': 41, 'max_depth': 63}. Best is trial 69 with value: 0.6864696801647412.\u001b[0m\n",
      "\u001b[32m[I 2020-11-14 14:42:23,746]\u001b[0m Trial 137 finished with value: 0.6748322758196466 and parameters: {'lambda_l1': 0.0008222578476518922, 'lambda_l2': 3.170658825384964, 'num_leaves': 246, 'feature_fraction': 0.6082335619752387, 'bagging_fraction': 0.6691507738355578, 'bagging_freq': 3, 'min_child_samples': 44, 'max_depth': 73}. Best is trial 69 with value: 0.6864696801647412.\u001b[0m\n",
      "\u001b[32m[I 2020-11-14 14:42:25,170]\u001b[0m Trial 138 finished with value: 0.6747550565425265 and parameters: {'lambda_l1': 0.00039090985628348053, 'lambda_l2': 3.3454374235100355, 'num_leaves': 249, 'feature_fraction': 0.6119522755133696, 'bagging_fraction': 0.6225367557456207, 'bagging_freq': 4, 'min_child_samples': 48, 'max_depth': 73}. Best is trial 69 with value: 0.6864696801647412.\u001b[0m\n",
      "\u001b[32m[I 2020-11-14 14:42:26,959]\u001b[0m Trial 139 finished with value: 0.6786557370521208 and parameters: {'lambda_l1': 0.00036990407765620303, 'lambda_l2': 1.6862664845241617, 'num_leaves': 249, 'feature_fraction': 0.6058884004040933, 'bagging_fraction': 0.6707430075769, 'bagging_freq': 4, 'min_child_samples': 44, 'max_depth': 85}. Best is trial 69 with value: 0.6864696801647412.\u001b[0m\n",
      "\u001b[32m[I 2020-11-14 14:42:28,644]\u001b[0m Trial 140 finished with value: 0.662481943727563 and parameters: {'lambda_l1': 0.00019959873669186262, 'lambda_l2': 1.7163520348834376, 'num_leaves': 253, 'feature_fraction': 0.5998338111445787, 'bagging_fraction': 0.6769482019716417, 'bagging_freq': 4, 'min_child_samples': 44, 'max_depth': 84}. Best is trial 69 with value: 0.6864696801647412.\u001b[0m\n",
      "\u001b[32m[I 2020-11-14 14:42:30,211]\u001b[0m Trial 141 finished with value: 0.6683052285305645 and parameters: {'lambda_l1': 0.00042911491721868444, 'lambda_l2': 3.0857997654626494, 'num_leaves': 249, 'feature_fraction': 0.6099151239646797, 'bagging_fraction': 0.6621033763318134, 'bagging_freq': 4, 'min_child_samples': 48, 'max_depth': 96}. Best is trial 69 with value: 0.6864696801647412.\u001b[0m\n",
      "\u001b[32m[I 2020-11-14 14:42:32,016]\u001b[0m Trial 142 finished with value: 0.6438535398465545 and parameters: {'lambda_l1': 0.0008546552492523791, 'lambda_l2': 0.8821057835517402, 'num_leaves': 243, 'feature_fraction': 0.6273435213496663, 'bagging_fraction': 0.6474758601040362, 'bagging_freq': 4, 'min_child_samples': 46, 'max_depth': 87}. Best is trial 69 with value: 0.6864696801647412.\u001b[0m\n",
      "\u001b[32m[I 2020-11-14 14:42:33,401]\u001b[0m Trial 143 finished with value: 0.668087193999395 and parameters: {'lambda_l1': 5.8740320298372985e-05, 'lambda_l2': 4.845471806268506, 'num_leaves': 248, 'feature_fraction': 0.5863643334324644, 'bagging_fraction': 0.6280895384761974, 'bagging_freq': 4, 'min_child_samples': 54, 'max_depth': 79}. Best is trial 69 with value: 0.6864696801647412.\u001b[0m\n",
      "\u001b[32m[I 2020-11-14 14:42:35,360]\u001b[0m Trial 144 finished with value: 0.6769642469055578 and parameters: {'lambda_l1': 0.0003597292749233765, 'lambda_l2': 1.4931946571138148, 'num_leaves': 256, 'feature_fraction': 0.6205871782746091, 'bagging_fraction': 0.6949906552570664, 'bagging_freq': 4, 'min_child_samples': 44, 'max_depth': 73}. Best is trial 69 with value: 0.6864696801647412.\u001b[0m\n",
      "\u001b[32m[I 2020-11-14 14:42:37,374]\u001b[0m Trial 145 finished with value: 0.6706729247475128 and parameters: {'lambda_l1': 0.0001281828121736952, 'lambda_l2': 0.5731088561233288, 'num_leaves': 256, 'feature_fraction': 0.6348261941891924, 'bagging_fraction': 0.6796462930700253, 'bagging_freq': 3, 'min_child_samples': 44, 'max_depth': 94}. Best is trial 69 with value: 0.6864696801647412.\u001b[0m\n",
      "\u001b[32m[I 2020-11-14 14:42:39,312]\u001b[0m Trial 146 finished with value: 0.6453351656783709 and parameters: {'lambda_l1': 8.320969392993705e-05, 'lambda_l2': 2.020678685364841, 'num_leaves': 235, 'feature_fraction': 0.6654547580587655, 'bagging_fraction': 0.697296890518668, 'bagging_freq': 3, 'min_child_samples': 39, 'max_depth': 77}. Best is trial 69 with value: 0.6864696801647412.\u001b[0m\n",
      "\u001b[32m[I 2020-11-14 14:42:41,476]\u001b[0m Trial 147 finished with value: 0.6573830193460815 and parameters: {'lambda_l1': 1.8881249316887913e-05, 'lambda_l2': 1.4656494601363304, 'num_leaves': 240, 'feature_fraction': 0.712273421528206, 'bagging_fraction': 0.6722546652592527, 'bagging_freq': 4, 'min_child_samples': 36, 'max_depth': 75}. Best is trial 69 with value: 0.6864696801647412.\u001b[0m\n",
      "\u001b[32m[I 2020-11-14 14:42:43,448]\u001b[0m Trial 148 finished with value: 0.6517768040244388 and parameters: {'lambda_l1': 0.0006500709162575308, 'lambda_l2': 0.9989212227914185, 'num_leaves': 230, 'feature_fraction': 0.6496172017643026, 'bagging_fraction': 0.7171271592650067, 'bagging_freq': 5, 'min_child_samples': 42, 'max_depth': 82}. Best is trial 69 with value: 0.6864696801647412.\u001b[0m\n",
      "\u001b[32m[I 2020-11-14 14:42:46,116]\u001b[0m Trial 149 finished with value: 0.6597083808184533 and parameters: {'lambda_l1': 0.00039477158162831173, 'lambda_l2': 0.3993458549396694, 'num_leaves': 226, 'feature_fraction': 0.7641022645582182, 'bagging_fraction': 0.6953219850671777, 'bagging_freq': 4, 'min_child_samples': 34, 'max_depth': 81}. Best is trial 69 with value: 0.6864696801647412.\u001b[0m\n",
      "\u001b[32m[I 2020-11-14 14:42:47,693]\u001b[0m Trial 150 finished with value: 0.6607150714479402 and parameters: {'lambda_l1': 0.0003073809371848325, 'lambda_l2': 6.965492365756437, 'num_leaves': 243, 'feature_fraction': 0.6005969458849792, 'bagging_fraction': 0.7066439031080131, 'bagging_freq': 1, 'min_child_samples': 50, 'max_depth': 73}. Best is trial 69 with value: 0.6864696801647412.\u001b[0m\n",
      "\u001b[32m[I 2020-11-14 14:42:48,658]\u001b[0m Trial 151 finished with value: 0.6680514851758111 and parameters: {'lambda_l1': 9.381681094860793, 'lambda_l2': 3.2482089969150354, 'num_leaves': 252, 'feature_fraction': 0.5746230907876022, 'bagging_fraction': 0.607761619343888, 'bagging_freq': 4, 'min_child_samples': 48, 'max_depth': 69}. Best is trial 69 with value: 0.6864696801647412.\u001b[0m\n",
      "\u001b[32m[I 2020-11-14 14:42:50,407]\u001b[0m Trial 152 finished with value: 0.6771795359503333 and parameters: {'lambda_l1': 0.00016228886898095747, 'lambda_l2': 2.4721853738352295, 'num_leaves': 247, 'feature_fraction': 0.6191660990829588, 'bagging_fraction': 0.6560196778517889, 'bagging_freq': 4, 'min_child_samples': 44, 'max_depth': 72}. Best is trial 69 with value: 0.6864696801647412.\u001b[0m\n"
     ]
    },
    {
     "name": "stderr",
     "output_type": "stream",
     "text": [
      "\u001b[32m[I 2020-11-14 14:42:52,308]\u001b[0m Trial 153 finished with value: 0.6656901520259008 and parameters: {'lambda_l1': 0.0001817011711239898, 'lambda_l2': 1.9305023656905118, 'num_leaves': 233, 'feature_fraction': 0.6233594072882217, 'bagging_fraction': 0.6690383368975874, 'bagging_freq': 4, 'min_child_samples': 40, 'max_depth': 87}. Best is trial 69 with value: 0.6864696801647412.\u001b[0m\n",
      "\u001b[32m[I 2020-11-14 14:42:54,317]\u001b[0m Trial 154 finished with value: 0.6666718522924103 and parameters: {'lambda_l1': 0.0002491575518212775, 'lambda_l2': 1.3330300192691964, 'num_leaves': 239, 'feature_fraction': 0.6196617846916725, 'bagging_fraction': 0.7460330752874413, 'bagging_freq': 4, 'min_child_samples': 44, 'max_depth': 70}. Best is trial 69 with value: 0.6864696801647412.\u001b[0m\n",
      "\u001b[32m[I 2020-11-14 14:42:56,344]\u001b[0m Trial 155 finished with value: 0.6751088739782581 and parameters: {'lambda_l1': 2.7627107345627086e-06, 'lambda_l2': 0.7402621147150408, 'num_leaves': 255, 'feature_fraction': 0.7428234322721408, 'bagging_fraction': 0.6475246935638826, 'bagging_freq': 3, 'min_child_samples': 42, 'max_depth': 67}. Best is trial 69 with value: 0.6864696801647412.\u001b[0m\n",
      "\u001b[32m[I 2020-11-14 14:42:58,772]\u001b[0m Trial 156 finished with value: 0.6545513425285628 and parameters: {'lambda_l1': 3.7379283303870304e-06, 'lambda_l2': 0.28802945102206046, 'num_leaves': 254, 'feature_fraction': 0.7830738160380669, 'bagging_fraction': 0.653434498195164, 'bagging_freq': 3, 'min_child_samples': 38, 'max_depth': 66}. Best is trial 69 with value: 0.6864696801647412.\u001b[0m\n",
      "\u001b[32m[I 2020-11-14 14:43:01,158]\u001b[0m Trial 157 finished with value: 0.653933802731333 and parameters: {'lambda_l1': 2.5347632206986415e-06, 'lambda_l2': 0.5835064990278306, 'num_leaves': 255, 'feature_fraction': 0.6980597712231582, 'bagging_fraction': 0.5743920406168329, 'bagging_freq': 5, 'min_child_samples': 31, 'max_depth': 68}. Best is trial 69 with value: 0.6864696801647412.\u001b[0m\n",
      "\u001b[32m[I 2020-11-14 14:43:02,424]\u001b[0m Trial 158 finished with value: 0.6473605611854122 and parameters: {'lambda_l1': 1.458569455431307e-06, 'lambda_l2': 0.7634023014026997, 'num_leaves': 237, 'feature_fraction': 0.74461247693541, 'bagging_fraction': 0.6388209167964984, 'bagging_freq': 4, 'min_child_samples': 87, 'max_depth': 64}. Best is trial 69 with value: 0.6864696801647412.\u001b[0m\n",
      "\u001b[32m[I 2020-11-14 14:43:04,383]\u001b[0m Trial 159 finished with value: 0.6480121425605597 and parameters: {'lambda_l1': 8.538473689123655e-06, 'lambda_l2': 0.011655459980736412, 'num_leaves': 224, 'feature_fraction': 0.7297304543346302, 'bagging_fraction': 0.5348352049810625, 'bagging_freq': 4, 'min_child_samples': 42, 'max_depth': 62}. Best is trial 69 with value: 0.6864696801647412.\u001b[0m\n",
      "\u001b[32m[I 2020-11-14 14:43:05,938]\u001b[0m Trial 160 finished with value: 0.6553519182784502 and parameters: {'lambda_l1': 0.00010493547671825551, 'lambda_l2': 1.2935935303688422, 'num_leaves': 256, 'feature_fraction': 0.7394888589160696, 'bagging_fraction': 0.5565261864167629, 'bagging_freq': 1, 'min_child_samples': 46, 'max_depth': 67}. Best is trial 69 with value: 0.6864696801647412.\u001b[0m\n",
      "\u001b[32m[I 2020-11-14 14:43:07,604]\u001b[0m Trial 161 finished with value: 0.6498833035559588 and parameters: {'lambda_l1': 0.000818384921863652, 'lambda_l2': 2.4013566203581718, 'num_leaves': 245, 'feature_fraction': 0.6053112979447488, 'bagging_fraction': 0.6866669544467503, 'bagging_freq': 3, 'min_child_samples': 44, 'max_depth': 72}. Best is trial 69 with value: 0.6864696801647412.\u001b[0m\n",
      "\u001b[32m[I 2020-11-14 14:43:09,203]\u001b[0m Trial 162 finished with value: 0.652488870222382 and parameters: {'lambda_l1': 4.0238981566390556e-05, 'lambda_l2': 4.380774544387782, 'num_leaves': 247, 'feature_fraction': 0.5944281433552359, 'bagging_fraction': 0.6640444021196699, 'bagging_freq': 4, 'min_child_samples': 41, 'max_depth': 75}. Best is trial 69 with value: 0.6864696801647412.\u001b[0m\n",
      "\u001b[32m[I 2020-11-14 14:43:10,332]\u001b[0m Trial 163 finished with value: 0.6644327902968518 and parameters: {'lambda_l1': 0.0017613512714850068, 'lambda_l2': 0.8054197277036088, 'num_leaves': 242, 'feature_fraction': 0.6333572411127746, 'bagging_fraction': 0.6509188574828735, 'bagging_freq': 3, 'min_child_samples': 82, 'max_depth': 65}. Best is trial 69 with value: 0.6864696801647412.\u001b[0m\n",
      "\u001b[32m[I 2020-11-14 14:43:11,506]\u001b[0m Trial 164 finished with value: 0.6698123511518687 and parameters: {'lambda_l1': 1.9548220598277029, 'lambda_l2': 0.14472337306163385, 'num_leaves': 233, 'feature_fraction': 0.4138005801826875, 'bagging_fraction': 0.6849542470782852, 'bagging_freq': 3, 'min_child_samples': 43, 'max_depth': 70}. Best is trial 69 with value: 0.6864696801647412.\u001b[0m\n",
      "\u001b[32m[I 2020-11-14 14:43:12,997]\u001b[0m Trial 165 finished with value: 0.6722857508534371 and parameters: {'lambda_l1': 7.818314184529328e-07, 'lambda_l2': 8.408956757959693, 'num_leaves': 249, 'feature_fraction': 0.5868303543425142, 'bagging_fraction': 0.726639313495169, 'bagging_freq': 3, 'min_child_samples': 46, 'max_depth': 59}. Best is trial 69 with value: 0.6864696801647412.\u001b[0m\n",
      "\u001b[32m[I 2020-11-14 14:43:14,805]\u001b[0m Trial 166 finished with value: 0.6716645951164999 and parameters: {'lambda_l1': 0.0005205547367507441, 'lambda_l2': 2.1545232397092393, 'num_leaves': 217, 'feature_fraction': 0.6819278192116884, 'bagging_fraction': 0.6394281641381566, 'bagging_freq': 3, 'min_child_samples': 39, 'max_depth': 78}. Best is trial 69 with value: 0.6864696801647412.\u001b[0m\n",
      "\u001b[32m[I 2020-11-14 14:43:15,769]\u001b[0m Trial 167 finished with value: 0.6544786864324261 and parameters: {'lambda_l1': 0.025478672327140472, 'lambda_l2': 5.303473429040654, 'num_leaves': 229, 'feature_fraction': 0.6131816440017305, 'bagging_fraction': 0.5979695638978234, 'bagging_freq': 1, 'min_child_samples': 89, 'max_depth': 72}. Best is trial 69 with value: 0.6864696801647412.\u001b[0m\n",
      "\u001b[32m[I 2020-11-14 14:43:17,540]\u001b[0m Trial 168 finished with value: 0.66270131788055 and parameters: {'lambda_l1': 0.0030612641690781744, 'lambda_l2': 1.1727624077869794, 'num_leaves': 237, 'feature_fraction': 0.7587594256892998, 'bagging_fraction': 0.6729667190595515, 'bagging_freq': 2, 'min_child_samples': 51, 'max_depth': 45}. Best is trial 69 with value: 0.6864696801647412.\u001b[0m\n",
      "\u001b[32m[I 2020-11-14 14:43:19,034]\u001b[0m Trial 169 finished with value: 0.654612210827633 and parameters: {'lambda_l1': 0.0009511793942190939, 'lambda_l2': 0.4326739088001005, 'num_leaves': 150, 'feature_fraction': 0.44924650354959167, 'bagging_fraction': 0.5493756194074748, 'bagging_freq': 3, 'min_child_samples': 41, 'max_depth': 68}. Best is trial 69 with value: 0.6864696801647412.\u001b[0m\n",
      "\u001b[32m[I 2020-11-14 14:43:20,201]\u001b[0m Trial 170 finished with value: 0.6619484643472625 and parameters: {'lambda_l1': 0.3012690682159033, 'lambda_l2': 0.0001669754746892627, 'num_leaves': 256, 'feature_fraction': 0.5651523510936124, 'bagging_fraction': 0.6587369325434357, 'bagging_freq': 2, 'min_child_samples': 85, 'max_depth': 52}. Best is trial 69 with value: 0.6864696801647412.\u001b[0m\n",
      "\u001b[32m[I 2020-11-14 14:43:21,668]\u001b[0m Trial 171 finished with value: 0.6690454229584207 and parameters: {'lambda_l1': 0.00030322042254758247, 'lambda_l2': 3.1271611387542375, 'num_leaves': 249, 'feature_fraction': 0.6156389330391983, 'bagging_fraction': 0.6266807232519687, 'bagging_freq': 4, 'min_child_samples': 49, 'max_depth': 74}. Best is trial 69 with value: 0.6864696801647412.\u001b[0m\n",
      "\u001b[32m[I 2020-11-14 14:43:23,254]\u001b[0m Trial 172 finished with value: 0.6676858710387455 and parameters: {'lambda_l1': 0.00016169936322221634, 'lambda_l2': 2.3259902083453405, 'num_leaves': 245, 'feature_fraction': 0.6051563553834524, 'bagging_fraction': 0.6187587343722799, 'bagging_freq': 4, 'min_child_samples': 48, 'max_depth': 74}. Best is trial 69 with value: 0.6864696801647412.\u001b[0m\n",
      "\u001b[32m[I 2020-11-14 14:43:24,769]\u001b[0m Trial 173 finished with value: 0.6690472317487427 and parameters: {'lambda_l1': 0.0005095585457672366, 'lambda_l2': 3.3980196096503095, 'num_leaves': 239, 'feature_fraction': 0.6406000432746253, 'bagging_fraction': 0.5666443799820297, 'bagging_freq': 4, 'min_child_samples': 47, 'max_depth': 72}. Best is trial 69 with value: 0.6864696801647412.\u001b[0m\n",
      "\u001b[32m[I 2020-11-14 14:43:26,064]\u001b[0m Trial 174 finished with value: 0.6727715928543163 and parameters: {'lambda_l1': 0.00037950270358541084, 'lambda_l2': 1.4179336182339075, 'num_leaves': 251, 'feature_fraction': 0.42880874211829584, 'bagging_fraction': 0.6184641048763988, 'bagging_freq': 4, 'min_child_samples': 53, 'max_depth': 70}. Best is trial 69 with value: 0.6864696801647412.\u001b[0m\n"
     ]
    },
    {
     "name": "stderr",
     "output_type": "stream",
     "text": [
      "\u001b[32m[I 2020-11-14 14:43:27,630]\u001b[0m Trial 175 finished with value: 0.6587771944172105 and parameters: {'lambda_l1': 8.823874853264156e-05, 'lambda_l2': 5.68828646481127, 'num_leaves': 244, 'feature_fraction': 0.6259872938888857, 'bagging_fraction': 0.633530552354237, 'bagging_freq': 4, 'min_child_samples': 44, 'max_depth': 80}. Best is trial 69 with value: 0.6864696801647412.\u001b[0m\n",
      "\u001b[32m[I 2020-11-14 14:43:28,803]\u001b[0m Trial 176 finished with value: 0.6667549371143252 and parameters: {'lambda_l1': 0.0014594010670245818, 'lambda_l2': 0.00030112214996961373, 'num_leaves': 234, 'feature_fraction': 0.7207507219497068, 'bagging_fraction': 0.5803572055619205, 'bagging_freq': 6, 'min_child_samples': 84, 'max_depth': 77}. Best is trial 69 with value: 0.6864696801647412.\u001b[0m\n",
      "\u001b[32m[I 2020-11-14 14:43:30,413]\u001b[0m Trial 177 finished with value: 0.6673956868379491 and parameters: {'lambda_l1': 0.00811917619184079, 'lambda_l2': 0.6767354768687025, 'num_leaves': 256, 'feature_fraction': 0.5934090231910809, 'bagging_fraction': 0.599657134350945, 'bagging_freq': 4, 'min_child_samples': 46, 'max_depth': 64}. Best is trial 69 with value: 0.6864696801647412.\u001b[0m\n",
      "\u001b[32m[I 2020-11-14 14:43:32,037]\u001b[0m Trial 178 finished with value: 0.663279409964253 and parameters: {'lambda_l1': 2.400839024225624e-06, 'lambda_l2': 3.536136791211347, 'num_leaves': 222, 'feature_fraction': 0.6551622766513657, 'bagging_fraction': 0.6452391327440987, 'bagging_freq': 5, 'min_child_samples': 43, 'max_depth': 67}. Best is trial 69 with value: 0.6864696801647412.\u001b[0m\n",
      "\u001b[32m[I 2020-11-14 14:43:33,002]\u001b[0m Trial 179 finished with value: 0.6463336666419637 and parameters: {'lambda_l1': 2.4513705973741863e-07, 'lambda_l2': 0.00045058160276871073, 'num_leaves': 228, 'feature_fraction': 0.6126843997914064, 'bagging_fraction': 0.7110764949714916, 'bagging_freq': 1, 'min_child_samples': 91, 'max_depth': 5}. Best is trial 69 with value: 0.6864696801647412.\u001b[0m\n",
      "\u001b[32m[I 2020-11-14 14:43:35,511]\u001b[0m Trial 180 finished with value: 0.6774646788973749 and parameters: {'lambda_l1': 0.0007236926894030756, 'lambda_l2': 1.5581222400672583, 'num_leaves': 249, 'feature_fraction': 0.5801559690741445, 'bagging_fraction': 0.6958987284525908, 'bagging_freq': 2, 'min_child_samples': 26, 'max_depth': 61}. Best is trial 69 with value: 0.6864696801647412.\u001b[0m\n",
      "\u001b[32m[I 2020-11-14 14:43:36,765]\u001b[0m Trial 181 finished with value: 0.6684651393940068 and parameters: {'lambda_l1': 0.0011184095074314305, 'lambda_l2': 1.789950896863104, 'num_leaves': 250, 'feature_fraction': 0.6006189327911682, 'bagging_fraction': 0.703399297482194, 'bagging_freq': 2, 'min_child_samples': 87, 'max_depth': 61}. Best is trial 69 with value: 0.6864696801647412.\u001b[0m\n",
      "\u001b[32m[I 2020-11-14 14:43:39,209]\u001b[0m Trial 182 finished with value: 0.6613059163785207 and parameters: {'lambda_l1': 0.0007601288738063527, 'lambda_l2': 0.981763243548636, 'num_leaves': 241, 'feature_fraction': 0.5840082570010676, 'bagging_fraction': 0.6886159285824102, 'bagging_freq': 2, 'min_child_samples': 28, 'max_depth': 62}. Best is trial 69 with value: 0.6864696801647412.\u001b[0m\n",
      "\u001b[32m[I 2020-11-14 14:43:43,253]\u001b[0m Trial 183 finished with value: 0.663700344720124 and parameters: {'lambda_l1': 0.00025616094154166805, 'lambda_l2': 2.1455008134012106, 'num_leaves': 246, 'feature_fraction': 0.9947321847433759, 'bagging_fraction': 0.6716125007436126, 'bagging_freq': 2, 'min_child_samples': 20, 'max_depth': 65}. Best is trial 69 with value: 0.6864696801647412.\u001b[0m\n",
      "\u001b[32m[I 2020-11-14 14:43:44,846]\u001b[0m Trial 184 finished with value: 0.658532342924207 and parameters: {'lambda_l1': 0.0004328961073531754, 'lambda_l2': 1.1592126709197685, 'num_leaves': 235, 'feature_fraction': 0.5540260115133768, 'bagging_fraction': 0.661889438399101, 'bagging_freq': 2, 'min_child_samples': 50, 'max_depth': 60}. Best is trial 69 with value: 0.6864696801647412.\u001b[0m\n",
      "\u001b[32m[I 2020-11-14 14:43:46,360]\u001b[0m Trial 185 finished with value: 0.6635000953853193 and parameters: {'lambda_l1': 3.1447688031310133, 'lambda_l2': 3.7674789713024333, 'num_leaves': 256, 'feature_fraction': 0.5711246247406261, 'bagging_fraction': 0.6899411211354265, 'bagging_freq': 3, 'min_child_samples': 36, 'max_depth': 55}. Best is trial 69 with value: 0.6864696801647412.\u001b[0m\n",
      "\u001b[32m[I 2020-11-14 14:43:46,922]\u001b[0m Trial 186 finished with value: 0.6388866489344879 and parameters: {'lambda_l1': 0.0005893517210487139, 'lambda_l2': 0.0009451128628175626, 'num_leaves': 250, 'feature_fraction': 0.6263813761492455, 'bagging_fraction': 0.5426139453631248, 'bagging_freq': 2, 'min_child_samples': 81, 'max_depth': 2}. Best is trial 69 with value: 0.6864696801647412.\u001b[0m\n",
      "\u001b[32m[I 2020-11-14 14:43:48,704]\u001b[0m Trial 187 finished with value: 0.6588778671932797 and parameters: {'lambda_l1': 0.00015513230130481437, 'lambda_l2': 9.91770456060701, 'num_leaves': 240, 'feature_fraction': 0.4550713122055931, 'bagging_fraction': 0.6782015669161843, 'bagging_freq': 1, 'min_child_samples': 26, 'max_depth': 58}. Best is trial 69 with value: 0.6864696801647412.\u001b[0m\n",
      "\u001b[32m[I 2020-11-14 14:43:50,586]\u001b[0m Trial 188 finished with value: 0.6573080958363221 and parameters: {'lambda_l1': 6.102917045384195e-06, 'lambda_l2': 1.7608893482819659, 'num_leaves': 229, 'feature_fraction': 0.5809583007143826, 'bagging_fraction': 0.7391113634299488, 'bagging_freq': 4, 'min_child_samples': 45, 'max_depth': 63}. Best is trial 69 with value: 0.6864696801647412.\u001b[0m\n",
      "\u001b[32m[I 2020-11-14 14:43:52,213]\u001b[0m Trial 189 finished with value: 0.6393321905770619 and parameters: {'lambda_l1': 0.0003350180834063614, 'lambda_l2': 0.5005187130532153, 'num_leaves': 245, 'feature_fraction': 0.4416591115427434, 'bagging_fraction': 0.5743344712381234, 'bagging_freq': 6, 'min_child_samples': 39, 'max_depth': 69}. Best is trial 69 with value: 0.6864696801647412.\u001b[0m\n",
      "\u001b[32m[I 2020-11-14 14:43:55,198]\u001b[0m Trial 190 finished with value: 0.6658199091774262 and parameters: {'lambda_l1': 0.002120398001365665, 'lambda_l2': 0.2665754131324223, 'num_leaves': 236, 'feature_fraction': 0.4712014867191128, 'bagging_fraction': 0.979560429130415, 'bagging_freq': 2, 'min_child_samples': 33, 'max_depth': 66}. Best is trial 69 with value: 0.6864696801647412.\u001b[0m\n",
      "\u001b[32m[I 2020-11-14 14:43:59,285]\u001b[0m Trial 191 finished with value: 0.6702146302580614 and parameters: {'lambda_l1': 0.001234688665823893, 'lambda_l2': 3.0299419605166222, 'num_leaves': 242, 'feature_fraction': 0.6038689133051567, 'bagging_fraction': 0.5881280721611453, 'bagging_freq': 6, 'min_child_samples': 13, 'max_depth': 48}. Best is trial 69 with value: 0.6864696801647412.\u001b[0m\n",
      "\u001b[32m[I 2020-11-14 14:44:02,830]\u001b[0m Trial 192 finished with value: 0.6546802753890483 and parameters: {'lambda_l1': 0.0007157042461316039, 'lambda_l2': 5.2999463168617, 'num_leaves': 252, 'feature_fraction': 0.7318324849477149, 'bagging_fraction': 0.5571097584993543, 'bagging_freq': 6, 'min_child_samples': 15, 'max_depth': 60}. Best is trial 69 with value: 0.6864696801647412.\u001b[0m\n",
      "\u001b[32m[I 2020-11-14 14:44:04,534]\u001b[0m Trial 193 finished with value: 0.6575506515619648 and parameters: {'lambda_l1': 0.0013034288624575263, 'lambda_l2': 2.5236581417755932, 'num_leaves': 256, 'feature_fraction': 0.6185666317557016, 'bagging_fraction': 0.6062133045929786, 'bagging_freq': 6, 'min_child_samples': 42, 'max_depth': 57}. Best is trial 69 with value: 0.6864696801647412.\u001b[0m\n",
      "\u001b[32m[I 2020-11-14 14:44:09,381]\u001b[0m Trial 194 finished with value: 0.644761647320855 and parameters: {'lambda_l1': 0.8752638822327394, 'lambda_l2': 0.8296585970298325, 'num_leaves': 248, 'feature_fraction': 0.5939857995781054, 'bagging_fraction': 0.652786771004587, 'bagging_freq': 6, 'min_child_samples': 9, 'max_depth': 72}. Best is trial 69 with value: 0.6864696801647412.\u001b[0m\n",
      "\u001b[32m[I 2020-11-14 14:44:10,335]\u001b[0m Trial 195 finished with value: 0.6670198606667871 and parameters: {'lambda_l1': 0.000285433811060415, 'lambda_l2': 1.3889839045080774, 'num_leaves': 230, 'feature_fraction': 0.46478002030250337, 'bagging_fraction': 0.5674262730920699, 'bagging_freq': 6, 'min_child_samples': 88, 'max_depth': 59}. Best is trial 69 with value: 0.6864696801647412.\u001b[0m\n",
      "\u001b[32m[I 2020-11-14 14:44:23,824]\u001b[0m Trial 196 finished with value: 0.6404200077991411 and parameters: {'lambda_l1': 0.004022568901560937, 'lambda_l2': 1.1826385260153914e-08, 'num_leaves': 241, 'feature_fraction': 0.7496866963507952, 'bagging_fraction': 0.591866683125439, 'bagging_freq': 4, 'min_child_samples': 7, 'max_depth': 63}. Best is trial 69 with value: 0.6864696801647412.\u001b[0m\n"
     ]
    },
    {
     "name": "stderr",
     "output_type": "stream",
     "text": [
      "\u001b[32m[I 2020-11-14 14:44:28,320]\u001b[0m Trial 197 finished with value: 0.659985362453339 and parameters: {'lambda_l1': 0.10725581413180396, 'lambda_l2': 1.6426996126763944, 'num_leaves': 224, 'feature_fraction': 0.4857519893506363, 'bagging_fraction': 0.6997801998832912, 'bagging_freq': 2, 'min_child_samples': 11, 'max_depth': 53}. Best is trial 69 with value: 0.6864696801647412.\u001b[0m\n",
      "\u001b[32m[I 2020-11-14 14:44:29,863]\u001b[0m Trial 198 finished with value: 0.6635722167012076 and parameters: {'lambda_l1': 6.153460712743362e-05, 'lambda_l2': 6.411405111580826, 'num_leaves': 233, 'feature_fraction': 0.6352409772387716, 'bagging_fraction': 0.6186378672308859, 'bagging_freq': 1, 'min_child_samples': 45, 'max_depth': 91}. Best is trial 69 with value: 0.6864696801647412.\u001b[0m\n",
      "\u001b[32m[I 2020-11-14 14:44:31,319]\u001b[0m Trial 199 finished with value: 0.6504641500303231 and parameters: {'lambda_l1': 0.00047410708977953654, 'lambda_l2': 2.6170715599481467, 'num_leaves': 246, 'feature_fraction': 0.5282780039932067, 'bagging_fraction': 0.5834727492970044, 'bagging_freq': 5, 'min_child_samples': 47, 'max_depth': 76}. Best is trial 69 with value: 0.6864696801647412.\u001b[0m\n",
      "\u001b[32m[I 2020-11-14 14:44:35,513]\u001b[0m Trial 200 finished with value: 0.656204227061174 and parameters: {'lambda_l1': 1.792799736532198e-05, 'lambda_l2': 0.9646441259240063, 'num_leaves': 238, 'feature_fraction': 0.773243641497664, 'bagging_fraction': 0.6346939570099658, 'bagging_freq': 3, 'min_child_samples': 17, 'max_depth': 67}. Best is trial 69 with value: 0.6864696801647412.\u001b[0m\n",
      "\u001b[32m[I 2020-11-14 14:44:36,770]\u001b[0m Trial 201 finished with value: 0.6690359220244474 and parameters: {'lambda_l1': 0.055813647054051674, 'lambda_l2': 2.8742748518956222e-05, 'num_leaves': 218, 'feature_fraction': 0.5079503692067255, 'bagging_fraction': 0.6683118326810886, 'bagging_freq': 2, 'min_child_samples': 66, 'max_depth': 8}. Best is trial 69 with value: 0.6864696801647412.\u001b[0m\n",
      "\u001b[32m[I 2020-11-14 14:44:37,615]\u001b[0m Trial 202 finished with value: 0.6817626521019107 and parameters: {'lambda_l1': 0.07928413223665685, 'lambda_l2': 6.8182440780693815e-06, 'num_leaves': 139, 'feature_fraction': 0.4965545592542352, 'bagging_fraction': 0.7170148890696978, 'bagging_freq': 2, 'min_child_samples': 86, 'max_depth': 4}. Best is trial 69 with value: 0.6864696801647412.\u001b[0m\n",
      "\u001b[32m[I 2020-11-14 14:44:38,585]\u001b[0m Trial 203 finished with value: 0.6809648501921558 and parameters: {'lambda_l1': 0.0870712864663158, 'lambda_l2': 9.614256512204959e-08, 'num_leaves': 252, 'feature_fraction': 0.4894013857264528, 'bagging_fraction': 0.7234846028458921, 'bagging_freq': 2, 'min_child_samples': 86, 'max_depth': 6}. Best is trial 69 with value: 0.6864696801647412.\u001b[0m\n",
      "\u001b[32m[I 2020-11-14 14:44:39,355]\u001b[0m Trial 204 finished with value: 0.6711787336661494 and parameters: {'lambda_l1': 0.0383217311374122, 'lambda_l2': 2.3749611306994624e-07, 'num_leaves': 251, 'feature_fraction': 0.48441617899678713, 'bagging_fraction': 0.7191659570836244, 'bagging_freq': 2, 'min_child_samples': 86, 'max_depth': 4}. Best is trial 69 with value: 0.6864696801647412.\u001b[0m\n",
      "\u001b[32m[I 2020-11-14 14:44:40,346]\u001b[0m Trial 205 finished with value: 0.6720905427723872 and parameters: {'lambda_l1': 0.07693926043902845, 'lambda_l2': 0.6479386897596686, 'num_leaves': 110, 'feature_fraction': 0.47927800785095326, 'bagging_fraction': 0.7542908272220055, 'bagging_freq': 2, 'min_child_samples': 85, 'max_depth': 6}. Best is trial 69 with value: 0.6864696801647412.\u001b[0m\n",
      "\u001b[32m[I 2020-11-14 14:44:41,525]\u001b[0m Trial 206 finished with value: 0.6625347266473887 and parameters: {'lambda_l1': 0.0987010448061835, 'lambda_l2': 0.004572865619453142, 'num_leaves': 256, 'feature_fraction': 0.49183364448458144, 'bagging_fraction': 0.7208100590148403, 'bagging_freq': 2, 'min_child_samples': 83, 'max_depth': 10}. Best is trial 69 with value: 0.6864696801647412.\u001b[0m\n",
      "\u001b[32m[I 2020-11-14 14:44:42,124]\u001b[0m Trial 207 finished with value: 0.6648737025156838 and parameters: {'lambda_l1': 0.2006247158680535, 'lambda_l2': 4.2500663269240506e-08, 'num_leaves': 256, 'feature_fraction': 0.7111049707394459, 'bagging_fraction': 0.7268244579140837, 'bagging_freq': 2, 'min_child_samples': 88, 'max_depth': 2}. Best is trial 69 with value: 0.6864696801647412.\u001b[0m\n",
      "\u001b[32m[I 2020-11-14 14:44:43,075]\u001b[0m Trial 208 finished with value: 0.6729787859746438 and parameters: {'lambda_l1': 0.49290497231335795, 'lambda_l2': 1.1608481606747418e-06, 'num_leaves': 162, 'feature_fraction': 0.466867361234869, 'bagging_fraction': 0.7115405882196058, 'bagging_freq': 2, 'min_child_samples': 89, 'max_depth': 6}. Best is trial 69 with value: 0.6864696801647412.\u001b[0m\n",
      "\u001b[32m[I 2020-11-14 14:44:43,763]\u001b[0m Trial 209 finished with value: 0.6519118474751394 and parameters: {'lambda_l1': 0.01957217806509041, 'lambda_l2': 8.3710903255835e-08, 'num_leaves': 141, 'feature_fraction': 0.4996078480977657, 'bagging_fraction': 0.7419739658399908, 'bagging_freq': 2, 'min_child_samples': 84, 'max_depth': 3}. Best is trial 69 with value: 0.6864696801647412.\u001b[0m\n",
      "\u001b[32m[I 2020-11-14 14:44:44,940]\u001b[0m Trial 210 finished with value: 0.6585601071273168 and parameters: {'lambda_l1': 0.1390749604701935, 'lambda_l2': 0.03382123256101321, 'num_leaves': 247, 'feature_fraction': 0.6046873428482725, 'bagging_fraction': 0.6872905293551437, 'bagging_freq': 2, 'min_child_samples': 80, 'max_depth': 7}. Best is trial 69 with value: 0.6864696801647412.\u001b[0m\n",
      "\u001b[32m[I 2020-11-14 14:44:45,878]\u001b[0m Trial 211 finished with value: 0.6721777321519848 and parameters: {'lambda_l1': 0.0009044866395376904, 'lambda_l2': 0.0023264664821406014, 'num_leaves': 78, 'feature_fraction': 0.4977230247951246, 'bagging_fraction': 0.6990565324644045, 'bagging_freq': 2, 'min_child_samples': 43, 'max_depth': 4}. Best is trial 69 with value: 0.6864696801647412.\u001b[0m\n",
      "\u001b[32m[I 2020-11-14 14:44:46,748]\u001b[0m Trial 212 finished with value: 0.6493085482223385 and parameters: {'lambda_l1': 0.054862322697457985, 'lambda_l2': 1.4453203188151602e-05, 'num_leaves': 88, 'feature_fraction': 0.5127514292325176, 'bagging_fraction': 0.5294878121942153, 'bagging_freq': 6, 'min_child_samples': 86, 'max_depth': 71}. Best is trial 69 with value: 0.6864696801647412.\u001b[0m\n",
      "\u001b[32m[I 2020-11-14 14:44:48,325]\u001b[0m Trial 213 finished with value: 0.6534374752971986 and parameters: {'lambda_l1': 0.03574062117869107, 'lambda_l2': 7.403829565750083e-06, 'num_leaves': 242, 'feature_fraction': 0.45939797939734583, 'bagging_fraction': 0.5521527743158048, 'bagging_freq': 1, 'min_child_samples': 41, 'max_depth': 65}. Best is trial 69 with value: 0.6864696801647412.\u001b[0m\n",
      "\u001b[32m[I 2020-11-14 14:44:49,611]\u001b[0m Trial 214 finished with value: 0.6698132789436734 and parameters: {'lambda_l1': 3.991073895319441e-06, 'lambda_l2': 2.297557196420164e-08, 'num_leaves': 252, 'feature_fraction': 0.618476784574657, 'bagging_fraction': 0.6765056941222716, 'bagging_freq': 4, 'min_child_samples': 82, 'max_depth': 69}. Best is trial 69 with value: 0.6864696801647412.\u001b[0m\n",
      "\u001b[32m[I 2020-11-14 14:44:50,474]\u001b[0m Trial 215 finished with value: 0.6708054557391708 and parameters: {'lambda_l1': 0.00020623764432554716, 'lambda_l2': 4.062316762453391, 'num_leaves': 236, 'feature_fraction': 0.47670979458710516, 'bagging_fraction': 0.5609610907896285, 'bagging_freq': 3, 'min_child_samples': 92, 'max_depth': 51}. Best is trial 69 with value: 0.6864696801647412.\u001b[0m\n",
      "\u001b[32m[I 2020-11-14 14:44:51,471]\u001b[0m Trial 216 finished with value: 0.667980618420525 and parameters: {'lambda_l1': 0.0006515359193025182, 'lambda_l2': 1.6197220144483147, 'num_leaves': 53, 'feature_fraction': 0.5895793380394747, 'bagging_fraction': 0.6482431649892165, 'bagging_freq': 4, 'min_child_samples': 90, 'max_depth': 73}. Best is trial 69 with value: 0.6864696801647412.\u001b[0m\n",
      "\u001b[32m[I 2020-11-14 14:44:52,975]\u001b[0m Trial 217 finished with value: 0.6560925818748107 and parameters: {'lambda_l1': 0.0818757205213557, 'lambda_l2': 2.1210387750941243e-06, 'num_leaves': 133, 'feature_fraction': 0.6128925978761991, 'bagging_fraction': 0.5719118702541309, 'bagging_freq': 6, 'min_child_samples': 47, 'max_depth': 61}. Best is trial 69 with value: 0.6864696801647412.\u001b[0m\n",
      "\u001b[32m[I 2020-11-14 14:44:53,703]\u001b[0m Trial 218 finished with value: 0.6739632706264898 and parameters: {'lambda_l1': 1.6362785779329325, 'lambda_l2': 0.0006213588954962334, 'num_leaves': 244, 'feature_fraction': 0.5357976354068874, 'bagging_fraction': 0.6569112743283534, 'bagging_freq': 2, 'min_child_samples': 22, 'max_depth': 2}. Best is trial 69 with value: 0.6864696801647412.\u001b[0m\n"
     ]
    },
    {
     "name": "stderr",
     "output_type": "stream",
     "text": [
      "\u001b[32m[I 2020-11-14 14:44:55,367]\u001b[0m Trial 219 finished with value: 0.666770454897068 and parameters: {'lambda_l1': 0.000373909379617573, 'lambda_l2': 2.293409517307981, 'num_leaves': 185, 'feature_fraction': 0.5186471346131599, 'bagging_fraction': 0.7319179780877944, 'bagging_freq': 1, 'min_child_samples': 44, 'max_depth': 9}. Best is trial 69 with value: 0.6864696801647412.\u001b[0m\n",
      "\u001b[32m[I 2020-11-14 14:44:57,602]\u001b[0m Trial 220 finished with value: 0.6597774104296791 and parameters: {'lambda_l1': 0.00011887887520994373, 'lambda_l2': 0.010154459914127107, 'num_leaves': 231, 'feature_fraction': 0.5735464351962516, 'bagging_fraction': 0.7057971839059035, 'bagging_freq': 2, 'min_child_samples': 40, 'max_depth': 55}. Best is trial 69 with value: 0.6864696801647412.\u001b[0m\n",
      "\u001b[32m[I 2020-11-14 14:44:58,538]\u001b[0m Trial 221 finished with value: 0.664377498031785 and parameters: {'lambda_l1': 0.12554437821208767, 'lambda_l2': 3.8807481666149895e-06, 'num_leaves': 193, 'feature_fraction': 0.49042836945008794, 'bagging_fraction': 0.6821504180815597, 'bagging_freq': 2, 'min_child_samples': 84, 'max_depth': 5}. Best is trial 69 with value: 0.6864696801647412.\u001b[0m\n",
      "\u001b[32m[I 2020-11-14 14:44:59,869]\u001b[0m Trial 222 finished with value: 0.6616710329933436 and parameters: {'lambda_l1': 0.19233878984655758, 'lambda_l2': 0.00010428941836679263, 'num_leaves': 251, 'feature_fraction': 0.5117642799110538, 'bagging_fraction': 0.6671333602886196, 'bagging_freq': 2, 'min_child_samples': 63, 'max_depth': 11}. Best is trial 69 with value: 0.6864696801647412.\u001b[0m\n",
      "\u001b[32m[I 2020-11-14 14:45:00,916]\u001b[0m Trial 223 finished with value: 0.6717568063003813 and parameters: {'lambda_l1': 0.05377614070234486, 'lambda_l2': 0.00027187951875354147, 'num_leaves': 225, 'feature_fraction': 0.503823040804705, 'bagging_fraction': 0.693771234984548, 'bagging_freq': 2, 'min_child_samples': 87, 'max_depth': 6}. Best is trial 69 with value: 0.6864696801647412.\u001b[0m\n",
      "\u001b[32m[I 2020-11-14 14:45:01,905]\u001b[0m Trial 224 finished with value: 0.6530214871985852 and parameters: {'lambda_l1': 0.07428404986935609, 'lambda_l2': 1.1682170408996944, 'num_leaves': 205, 'feature_fraction': 0.4404287996960347, 'bagging_fraction': 0.5448724503385258, 'bagging_freq': 2, 'min_child_samples': 70, 'max_depth': 63}. Best is trial 69 with value: 0.6864696801647412.\u001b[0m\n",
      "\u001b[32m[I 2020-11-14 14:45:03,773]\u001b[0m Trial 225 finished with value: 0.6643849645794875 and parameters: {'lambda_l1': 0.002441819697793482, 'lambda_l2': 3.4864215992482914, 'num_leaves': 238, 'feature_fraction': 0.4569848490919223, 'bagging_fraction': 0.6026651249286152, 'bagging_freq': 2, 'min_child_samples': 25, 'max_depth': 68}. Best is trial 69 with value: 0.6864696801647412.\u001b[0m\n",
      "\u001b[32m[I 2020-11-14 14:45:06,153]\u001b[0m Trial 226 finished with value: 0.6574339934755852 and parameters: {'lambda_l1': 4.059217819283715, 'lambda_l2': 4.9531381951519685e-05, 'num_leaves': 177, 'feature_fraction': 0.6287441618826822, 'bagging_fraction': 0.663355875878012, 'bagging_freq': 3, 'min_child_samples': 6, 'max_depth': 4}. Best is trial 69 with value: 0.6864696801647412.\u001b[0m\n",
      "\u001b[32m[I 2020-11-14 14:45:12,924]\u001b[0m Trial 227 finished with value: 0.6485704239658941 and parameters: {'lambda_l1': 0.025535021221915036, 'lambda_l2': 0.00018837638611262188, 'num_leaves': 247, 'feature_fraction': 0.737504609252521, 'bagging_fraction': 0.6817279310374982, 'bagging_freq': 2, 'min_child_samples': 13, 'max_depth': 74}. Best is trial 69 with value: 0.6864696801647412.\u001b[0m\n",
      "\u001b[32m[I 2020-11-14 14:45:13,519]\u001b[0m Trial 228 finished with value: 0.6447326461416407 and parameters: {'lambda_l1': 0.0005303819841574345, 'lambda_l2': 3.6343675982962015e-07, 'num_leaves': 256, 'feature_fraction': 0.6008210339594515, 'bagging_fraction': 0.7166398799564299, 'bagging_freq': 6, 'min_child_samples': 49, 'max_depth': 2}. Best is trial 69 with value: 0.6864696801647412.\u001b[0m\n",
      "\u001b[32m[I 2020-11-14 14:45:15,250]\u001b[0m Trial 229 finished with value: 0.664431862505047 and parameters: {'lambda_l1': 0.0011019623682611277, 'lambda_l2': 2.192048115132678, 'num_leaves': 243, 'feature_fraction': 0.47762618378214966, 'bagging_fraction': 0.6439408088784172, 'bagging_freq': 4, 'min_child_samples': 38, 'max_depth': 65}. Best is trial 69 with value: 0.6864696801647412.\u001b[0m\n",
      "\u001b[32m[I 2020-11-14 14:45:16,742]\u001b[0m Trial 230 finished with value: 0.668605391738106 and parameters: {'lambda_l1': 0.2555150807170193, 'lambda_l2': 6.778164413356148e-07, 'num_leaves': 240, 'feature_fraction': 0.5227280999224102, 'bagging_fraction': 0.5736792927532691, 'bagging_freq': 2, 'min_child_samples': 45, 'max_depth': 58}. Best is trial 69 with value: 0.6864696801647412.\u001b[0m\n",
      "\u001b[32m[I 2020-11-14 14:45:17,883]\u001b[0m Trial 231 finished with value: 0.6821580722597597 and parameters: {'lambda_l1': 0.0001591724171255616, 'lambda_l2': 0.0001335673078256891, 'num_leaves': 232, 'feature_fraction': 0.7145490015906893, 'bagging_fraction': 0.5607187678689821, 'bagging_freq': 1, 'min_child_samples': 87, 'max_depth': 8}. Best is trial 69 with value: 0.6864696801647412.\u001b[0m\n",
      "\u001b[32m[I 2020-11-14 14:45:19,010]\u001b[0m Trial 232 finished with value: 0.6536713827336466 and parameters: {'lambda_l1': 0.00019271859435672937, 'lambda_l2': 0.00021466664334044406, 'num_leaves': 231, 'feature_fraction': 0.696970054953376, 'bagging_fraction': 0.540789525287668, 'bagging_freq': 1, 'min_child_samples': 87, 'max_depth': 8}. Best is trial 69 with value: 0.6864696801647412.\u001b[0m\n",
      "\u001b[32m[I 2020-11-14 14:45:20,104]\u001b[0m Trial 233 finished with value: 0.6645113402915221 and parameters: {'lambda_l1': 0.00030224935168138116, 'lambda_l2': 0.0005822225138624092, 'num_leaves': 235, 'feature_fraction': 0.7591773736062922, 'bagging_fraction': 0.5604486523699431, 'bagging_freq': 1, 'min_child_samples': 85, 'max_depth': 6}. Best is trial 69 with value: 0.6864696801647412.\u001b[0m\n",
      "\u001b[32m[I 2020-11-14 14:45:21,160]\u001b[0m Trial 234 finished with value: 0.6790145665328174 and parameters: {'lambda_l1': 0.00012397067270727337, 'lambda_l2': 0.0001363388146152884, 'num_leaves': 223, 'feature_fraction': 0.7300613469139404, 'bagging_fraction': 0.5562836494421173, 'bagging_freq': 1, 'min_child_samples': 88, 'max_depth': 7}. Best is trial 69 with value: 0.6864696801647412.\u001b[0m\n",
      "\u001b[32m[I 2020-11-14 14:45:22,280]\u001b[0m Trial 235 finished with value: 0.6562668563473563 and parameters: {'lambda_l1': 0.00010692426849476659, 'lambda_l2': 0.00027584199519692306, 'num_leaves': 221, 'feature_fraction': 0.713358962093902, 'bagging_fraction': 0.5536095276578649, 'bagging_freq': 1, 'min_child_samples': 89, 'max_depth': 10}. Best is trial 69 with value: 0.6864696801647412.\u001b[0m\n",
      "\u001b[32m[I 2020-11-14 14:45:23,173]\u001b[0m Trial 236 finished with value: 0.6556126337724647 and parameters: {'lambda_l1': 0.0001670104363610513, 'lambda_l2': 7.719013282785313e-05, 'num_leaves': 230, 'feature_fraction': 0.7230759994418311, 'bagging_fraction': 0.5785176636776602, 'bagging_freq': 1, 'min_child_samples': 91, 'max_depth': 4}. Best is trial 69 with value: 0.6864696801647412.\u001b[0m\n",
      "\u001b[32m[I 2020-11-14 14:45:24,264]\u001b[0m Trial 237 finished with value: 0.6714365621291143 and parameters: {'lambda_l1': 6.622174047020044e-05, 'lambda_l2': 0.00042244331761607043, 'num_leaves': 226, 'feature_fraction': 0.7360982760859953, 'bagging_fraction': 0.5354827388620588, 'bagging_freq': 1, 'min_child_samples': 87, 'max_depth': 12}. Best is trial 69 with value: 0.6864696801647412.\u001b[0m\n",
      "\u001b[32m[I 2020-11-14 14:45:25,491]\u001b[0m Trial 238 finished with value: 0.6586513816151262 and parameters: {'lambda_l1': 0.00013462458919568182, 'lambda_l2': 0.0013221140416967041, 'num_leaves': 235, 'feature_fraction': 0.7558671327197128, 'bagging_fraction': 0.5883334457941164, 'bagging_freq': 1, 'min_child_samples': 83, 'max_depth': 7}. Best is trial 69 with value: 0.6864696801647412.\u001b[0m\n",
      "\u001b[32m[I 2020-11-14 14:45:28,295]\u001b[0m Trial 239 finished with value: 0.6429623998539297 and parameters: {'lambda_l1': 0.0002500849287184789, 'lambda_l2': 0.0001448060781693251, 'num_leaves': 227, 'feature_fraction': 0.720787439579476, 'bagging_fraction': 0.5617446346804186, 'bagging_freq': 1, 'min_child_samples': 30, 'max_depth': 61}. Best is trial 69 with value: 0.6864696801647412.\u001b[0m\n",
      "\u001b[32m[I 2020-11-14 14:45:29,346]\u001b[0m Trial 240 finished with value: 0.6629256862699676 and parameters: {'lambda_l1': 3.995967880225321e-05, 'lambda_l2': 0.00012071631130398129, 'num_leaves': 249, 'feature_fraction': 0.703245232882053, 'bagging_fraction': 0.5202492021780522, 'bagging_freq': 1, 'min_child_samples': 86, 'max_depth': 71}. Best is trial 69 with value: 0.6864696801647412.\u001b[0m\n"
     ]
    },
    {
     "name": "stderr",
     "output_type": "stream",
     "text": [
      "\u001b[32m[I 2020-11-14 14:45:30,511]\u001b[0m Trial 241 finished with value: 0.6597176203713367 and parameters: {'lambda_l1': 0.0004149308125695786, 'lambda_l2': 0.0003539178963177358, 'num_leaves': 221, 'feature_fraction': 0.7406098960556445, 'bagging_fraction': 0.5710686580521915, 'bagging_freq': 1, 'min_child_samples': 88, 'max_depth': 8}. Best is trial 69 with value: 0.6864696801647412.\u001b[0m\n",
      "\u001b[32m[I 2020-11-14 14:45:31,460]\u001b[0m Trial 242 finished with value: 0.6585874021619224 and parameters: {'lambda_l1': 0.0007673750983603476, 'lambda_l2': 8.3031150010608e-05, 'num_leaves': 240, 'feature_fraction': 0.7274753228005133, 'bagging_fraction': 0.6968610109678536, 'bagging_freq': 6, 'min_child_samples': 90, 'max_depth': 4}. Best is trial 69 with value: 0.6864696801647412.\u001b[0m\n",
      "\u001b[32m[I 2020-11-14 14:45:32,010]\u001b[0m Trial 243 finished with value: 0.6567288145797243 and parameters: {'lambda_l1': 0.04564318528042512, 'lambda_l2': 1.3370123283785713, 'num_leaves': 216, 'feature_fraction': 0.603112380925754, 'bagging_fraction': 0.5487826968349162, 'bagging_freq': 4, 'min_child_samples': 94, 'max_depth': 2}. Best is trial 69 with value: 0.6864696801647412.\u001b[0m\n",
      "\u001b[32m[I 2020-11-14 14:45:36,071]\u001b[0m Trial 244 finished with value: 0.6658807774764962 and parameters: {'lambda_l1': 1.5701967710598664e-06, 'lambda_l2': 4.052965796365584e-05, 'num_leaves': 246, 'feature_fraction': 0.6144538558830277, 'bagging_fraction': 0.5931784941832722, 'bagging_freq': 1, 'min_child_samples': 9, 'max_depth': 6}. Best is trial 69 with value: 0.6864696801647412.\u001b[0m\n",
      "\u001b[32m[I 2020-11-14 14:45:37,933]\u001b[0m Trial 245 finished with value: 0.6600948807608136 and parameters: {'lambda_l1': 0.12002002161913755, 'lambda_l2': 0.000175579125324259, 'num_leaves': 252, 'feature_fraction': 0.5942699259619625, 'bagging_fraction': 0.6731934049217917, 'bagging_freq': 2, 'min_child_samples': 43, 'max_depth': 20}. Best is trial 69 with value: 0.6864696801647412.\u001b[0m\n",
      "\u001b[32m[I 2020-11-14 14:45:38,914]\u001b[0m Trial 246 finished with value: 0.6778129292033704 and parameters: {'lambda_l1': 0.0017372831389562253, 'lambda_l2': 4.895016514843327, 'num_leaves': 233, 'feature_fraction': 0.4507223157201098, 'bagging_fraction': 0.6124678216569895, 'bagging_freq': 1, 'min_child_samples': 86, 'max_depth': 67}. Best is trial 69 with value: 0.6864696801647412.\u001b[0m\n",
      "\u001b[32m[I 2020-11-14 14:45:39,806]\u001b[0m Trial 247 finished with value: 0.662557458501011 and parameters: {'lambda_l1': 0.001793087198894113, 'lambda_l2': 5.771114027188108, 'num_leaves': 233, 'feature_fraction': 0.4254578861790733, 'bagging_fraction': 0.6186630457699959, 'bagging_freq': 1, 'min_child_samples': 81, 'max_depth': 69}. Best is trial 69 with value: 0.6864696801647412.\u001b[0m\n",
      "\u001b[32m[I 2020-11-14 14:45:40,738]\u001b[0m Trial 248 finished with value: 0.6646471231960841 and parameters: {'lambda_l1': 0.0015493913496762509, 'lambda_l2': 4.178073945256897, 'num_leaves': 227, 'feature_fraction': 0.4380539891745475, 'bagging_fraction': 0.6060067183821767, 'bagging_freq': 1, 'min_child_samples': 86, 'max_depth': 65}. Best is trial 69 with value: 0.6864696801647412.\u001b[0m\n",
      "\u001b[32m[I 2020-11-14 14:45:41,729]\u001b[0m Trial 249 finished with value: 0.6539098533510777 and parameters: {'lambda_l1': 0.0008761786045720307, 'lambda_l2': 2.946218315459123, 'num_leaves': 237, 'feature_fraction': 0.44603456926312085, 'bagging_fraction': 0.5881452652727737, 'bagging_freq': 4, 'min_child_samples': 83, 'max_depth': 67}. Best is trial 69 with value: 0.6864696801647412.\u001b[0m\n",
      "\u001b[32m[I 2020-11-14 14:45:42,676]\u001b[0m Trial 250 finished with value: 0.6614534765349456 and parameters: {'lambda_l1': 0.00019945228816239897, 'lambda_l2': 1.9546824428949585, 'num_leaves': 232, 'feature_fraction': 0.4553305160798613, 'bagging_fraction': 0.6250805652486293, 'bagging_freq': 1, 'min_child_samples': 89, 'max_depth': 62}. Best is trial 69 with value: 0.6864696801647412.\u001b[0m\n",
      "\u001b[32m[I 2020-11-14 14:45:43,607]\u001b[0m Trial 251 finished with value: 0.6610416875905123 and parameters: {'lambda_l1': 0.0004797481204316156, 'lambda_l2': 0.9949477100787185, 'num_leaves': 241, 'feature_fraction': 0.46941526056571686, 'bagging_fraction': 0.5632121850907589, 'bagging_freq': 1, 'min_child_samples': 85, 'max_depth': 29}. Best is trial 69 with value: 0.6864696801647412.\u001b[0m\n",
      "\u001b[32m[I 2020-11-14 14:45:45,062]\u001b[0m Trial 252 finished with value: 0.667036473025927 and parameters: {'lambda_l1': 0.00030127166388071075, 'lambda_l2': 8.312561655517888, 'num_leaves': 246, 'feature_fraction': 0.640728663372565, 'bagging_fraction': 0.6071896031752191, 'bagging_freq': 1, 'min_child_samples': 42, 'max_depth': 94}. Best is trial 69 with value: 0.6864696801647412.\u001b[0m\n",
      "\u001b[32m[I 2020-11-14 14:45:46,187]\u001b[0m Trial 253 finished with value: 0.6737334482982531 and parameters: {'lambda_l1': 0.002779120697759696, 'lambda_l2': 3.064181786170042, 'num_leaves': 256, 'feature_fraction': 0.7513243718400121, 'bagging_fraction': 0.5792672196281691, 'bagging_freq': 1, 'min_child_samples': 88, 'max_depth': 70}. Best is trial 69 with value: 0.6864696801647412.\u001b[0m\n",
      "\u001b[32m[I 2020-11-14 14:45:47,061]\u001b[0m Trial 254 finished with value: 0.6540864146867166 and parameters: {'lambda_l1': 5.906458756341237, 'lambda_l2': 4.879609118238764, 'num_leaves': 235, 'feature_fraction': 0.6248557190534669, 'bagging_fraction': 0.5521764890421761, 'bagging_freq': 6, 'min_child_samples': 78, 'max_depth': 67}. Best is trial 69 with value: 0.6864696801647412.\u001b[0m\n",
      "\u001b[32m[I 2020-11-14 14:45:48,766]\u001b[0m Trial 255 finished with value: 0.6524495251545684 and parameters: {'lambda_l1': 0.0006586592529334423, 'lambda_l2': 1.6292410008478355, 'num_leaves': 224, 'feature_fraction': 0.7135189369938343, 'bagging_fraction': 0.632628564661517, 'bagging_freq': 3, 'min_child_samples': 46, 'max_depth': 63}. Best is trial 69 with value: 0.6864696801647412.\u001b[0m\n",
      "\u001b[32m[I 2020-11-14 14:45:49,859]\u001b[0m Trial 256 finished with value: 0.6573695270453426 and parameters: {'lambda_l1': 8.513833059213301e-05, 'lambda_l2': 2.3819736976504298, 'num_leaves': 242, 'feature_fraction': 0.5874288928452643, 'bagging_fraction': 0.6543930350225288, 'bagging_freq': 4, 'min_child_samples': 86, 'max_depth': 76}. Best is trial 69 with value: 0.6864696801647412.\u001b[0m\n",
      "\u001b[32m[I 2020-11-14 14:45:50,952]\u001b[0m Trial 257 finished with value: 0.6625393181821103 and parameters: {'lambda_l1': 0.001382822404497032, 'lambda_l2': 0.789608645482102, 'num_leaves': 252, 'feature_fraction': 0.45157423451436174, 'bagging_fraction': 0.7362494947374704, 'bagging_freq': 1, 'min_child_samples': 84, 'max_depth': 65}. Best is trial 69 with value: 0.6864696801647412.\u001b[0m\n",
      "\u001b[32m[I 2020-11-14 14:45:52,875]\u001b[0m Trial 258 finished with value: 0.6474638937556453 and parameters: {'lambda_l1': 8.682937049074937e-06, 'lambda_l2': 1.3341239489589127, 'num_leaves': 228, 'feature_fraction': 0.6164557182523658, 'bagging_fraction': 0.7109985915426296, 'bagging_freq': 6, 'min_child_samples': 41, 'max_depth': 72}. Best is trial 69 with value: 0.6864696801647412.\u001b[0m\n",
      "\u001b[32m[I 2020-11-14 14:45:58,731]\u001b[0m Trial 259 finished with value: 0.6551075732119569 and parameters: {'lambda_l1': 0.00012981071329131035, 'lambda_l2': 0.533184447673537, 'num_leaves': 238, 'feature_fraction': 0.6899897632743162, 'bagging_fraction': 0.594748729277888, 'bagging_freq': 5, 'min_child_samples': 11, 'max_depth': 59}. Best is trial 69 with value: 0.6864696801647412.\u001b[0m\n",
      "\u001b[32m[I 2020-11-14 14:45:59,941]\u001b[0m Trial 260 finished with value: 0.6561001802770162 and parameters: {'lambda_l1': 0.0003951618846846315, 'lambda_l2': 4.135782200701118, 'num_leaves': 247, 'feature_fraction': 0.46485636548584625, 'bagging_fraction': 0.5375697309388684, 'bagging_freq': 3, 'min_child_samples': 48, 'max_depth': 68}. Best is trial 69 with value: 0.6864696801647412.\u001b[0m\n",
      "\u001b[32m[I 2020-11-14 14:46:01,083]\u001b[0m Trial 261 finished with value: 0.6622368592072081 and parameters: {'lambda_l1': 2.6708751969252718, 'lambda_l2': 0.018026411891751352, 'num_leaves': 231, 'feature_fraction': 0.4333331684552323, 'bagging_fraction': 0.6126196600440525, 'bagging_freq': 4, 'min_child_samples': 44, 'max_depth': 56}. Best is trial 69 with value: 0.6864696801647412.\u001b[0m\n",
      "\u001b[32m[I 2020-11-14 14:46:02,114]\u001b[0m Trial 262 finished with value: 0.678671590507928 and parameters: {'lambda_l1': 3.1390229664302983e-06, 'lambda_l2': 9.638507384133726, 'num_leaves': 256, 'feature_fraction': 0.6071117117660916, 'bagging_fraction': 0.5729021986548919, 'bagging_freq': 1, 'min_child_samples': 82, 'max_depth': 49}. Best is trial 69 with value: 0.6864696801647412.\u001b[0m\n"
     ]
    },
    {
     "name": "stderr",
     "output_type": "stream",
     "text": [
      "\u001b[32m[I 2020-11-14 14:46:03,117]\u001b[0m Trial 263 finished with value: 0.671672765332923 and parameters: {'lambda_l1': 7.058201915968007e-06, 'lambda_l2': 8.635509900486229, 'num_leaves': 256, 'feature_fraction': 0.6020965666371816, 'bagging_fraction': 0.5681623752815386, 'bagging_freq': 1, 'min_child_samples': 81, 'max_depth': 45}. Best is trial 69 with value: 0.6864696801647412.\u001b[0m\n",
      "\u001b[32m[I 2020-11-14 14:46:04,144]\u001b[0m Trial 264 finished with value: 0.6681858055083199 and parameters: {'lambda_l1': 2.878577118306107e-06, 'lambda_l2': 9.712348345382633, 'num_leaves': 251, 'feature_fraction': 0.6063981077031402, 'bagging_fraction': 0.5584279053701087, 'bagging_freq': 1, 'min_child_samples': 79, 'max_depth': 48}. Best is trial 69 with value: 0.6864696801647412.\u001b[0m\n",
      "\u001b[32m[I 2020-11-14 14:46:05,265]\u001b[0m Trial 265 finished with value: 0.6557755896164479 and parameters: {'lambda_l1': 1.0000579649220116e-06, 'lambda_l2': 6.521447530835704, 'num_leaves': 256, 'feature_fraction': 0.6239359889131143, 'bagging_fraction': 0.6395476664328362, 'bagging_freq': 1, 'min_child_samples': 82, 'max_depth': 50}. Best is trial 69 with value: 0.6864696801647412.\u001b[0m\n",
      "\u001b[32m[I 2020-11-14 14:46:06,166]\u001b[0m Trial 266 finished with value: 0.6528971458728214 and parameters: {'lambda_l1': 1.32061994783646, 'lambda_l2': 0.7981589485845758, 'num_leaves': 221, 'feature_fraction': 0.5779170941581503, 'bagging_fraction': 0.5436779148661002, 'bagging_freq': 1, 'min_child_samples': 85, 'max_depth': 47}. Best is trial 69 with value: 0.6864696801647412.\u001b[0m\n",
      "\u001b[32m[I 2020-11-14 14:46:07,367]\u001b[0m Trial 267 finished with value: 0.6608977433737945 and parameters: {'lambda_l1': 4.263577382502433e-06, 'lambda_l2': 1.8821973687483546, 'num_leaves': 243, 'feature_fraction': 0.6478149537132719, 'bagging_fraction': 0.6635224635696736, 'bagging_freq': 1, 'min_child_samples': 83, 'max_depth': 74}. Best is trial 69 with value: 0.6864696801647412.\u001b[0m\n",
      "\u001b[32m[I 2020-11-14 14:46:08,778]\u001b[0m Trial 268 finished with value: 0.6559758105975139 and parameters: {'lambda_l1': 2.9129954037103035e-06, 'lambda_l2': 0.0009939379962609813, 'num_leaves': 248, 'feature_fraction': 0.7321674686123729, 'bagging_fraction': 0.6875676019606997, 'bagging_freq': 1, 'min_child_samples': 90, 'max_depth': 66}. Best is trial 69 with value: 0.6864696801647412.\u001b[0m\n",
      "\u001b[32m[I 2020-11-14 14:46:09,837]\u001b[0m Trial 269 finished with value: 0.6685786774219853 and parameters: {'lambda_l1': 1.660062187766538e-06, 'lambda_l2': 0.05821227182422054, 'num_leaves': 211, 'feature_fraction': 0.6108270146082061, 'bagging_fraction': 0.5769783983018069, 'bagging_freq': 4, 'min_child_samples': 87, 'max_depth': 70}. Best is trial 69 with value: 0.6864696801647412.\u001b[0m\n",
      "\u001b[32m[I 2020-11-14 14:46:11,764]\u001b[0m Trial 270 finished with value: 0.671365388054502 and parameters: {'lambda_l1': 0.00023718128468067583, 'lambda_l2': 1.1062783487150296, 'num_leaves': 235, 'feature_fraction': 0.7814272110896526, 'bagging_fraction': 0.6781284098880981, 'bagging_freq': 2, 'min_child_samples': 52, 'max_depth': 8}. Best is trial 69 with value: 0.6864696801647412.\u001b[0m\n",
      "\u001b[32m[I 2020-11-14 14:46:13,364]\u001b[0m Trial 271 finished with value: 0.6768952172943319 and parameters: {'lambda_l1': 1.0012172174898586e-08, 'lambda_l2': 5.3717286035063285, 'num_leaves': 256, 'feature_fraction': 0.6333911496575555, 'bagging_fraction': 0.6503760920295203, 'bagging_freq': 7, 'min_child_samples': 45, 'max_depth': 49}. Best is trial 69 with value: 0.6864696801647412.\u001b[0m\n",
      "\u001b[32m[I 2020-11-14 14:46:15,355]\u001b[0m Trial 272 finished with value: 0.6669175280764539 and parameters: {'lambda_l1': 5.841065251638647e-08, 'lambda_l2': 5.794765982812758, 'num_leaves': 226, 'feature_fraction': 0.7453914762205501, 'bagging_fraction': 0.655830072887517, 'bagging_freq': 7, 'min_child_samples': 40, 'max_depth': 50}. Best is trial 69 with value: 0.6864696801647412.\u001b[0m\n",
      "\u001b[32m[I 2020-11-14 14:46:17,806]\u001b[0m Trial 273 finished with value: 0.6600775736372203 and parameters: {'lambda_l1': 1.1029184691774322e-08, 'lambda_l2': 0.00027810274874660634, 'num_leaves': 253, 'feature_fraction': 0.6751263919087456, 'bagging_fraction': 0.7033687614414351, 'bagging_freq': 7, 'min_child_samples': 43, 'max_depth': 43}. Best is trial 69 with value: 0.6864696801647412.\u001b[0m\n",
      "\u001b[32m[I 2020-11-14 14:46:19,078]\u001b[0m Trial 274 finished with value: 0.6565052332233413 and parameters: {'lambda_l1': 5.30076170973717e-07, 'lambda_l2': 9.480391587631276, 'num_leaves': 256, 'feature_fraction': 0.41656425168753886, 'bagging_fraction': 0.6683628298666285, 'bagging_freq': 7, 'min_child_samples': 45, 'max_depth': 52}. Best is trial 69 with value: 0.6864696801647412.\u001b[0m\n",
      "\u001b[32m[I 2020-11-14 14:46:20,294]\u001b[0m Trial 275 finished with value: 0.6703990720752953 and parameters: {'lambda_l1': 3.275113711634532e-05, 'lambda_l2': 0.00041071372340338493, 'num_leaves': 231, 'feature_fraction': 0.6328758643534335, 'bagging_fraction': 0.5630247940893287, 'bagging_freq': 5, 'min_child_samples': 84, 'max_depth': 46}. Best is trial 69 with value: 0.6864696801647412.\u001b[0m\n",
      "\u001b[32m[I 2020-11-14 14:46:21,428]\u001b[0m Trial 276 finished with value: 0.6658468490894959 and parameters: {'lambda_l1': 9.864423237807865e-08, 'lambda_l2': 2.618536995158052, 'num_leaves': 239, 'feature_fraction': 0.6575515674225398, 'bagging_fraction': 0.7216829505416169, 'bagging_freq': 3, 'min_child_samples': 37, 'max_depth': 4}. Best is trial 69 with value: 0.6864696801647412.\u001b[0m\n",
      "\u001b[32m[I 2020-11-14 14:46:22,578]\u001b[0m Trial 277 finished with value: 0.6770682458865059 and parameters: {'lambda_l1': 5.0912538793615555e-05, 'lambda_l2': 0.4428019301182153, 'num_leaves': 256, 'feature_fraction': 0.7016130253892816, 'bagging_fraction': 0.6436438765615159, 'bagging_freq': 7, 'min_child_samples': 92, 'max_depth': 49}. Best is trial 69 with value: 0.6864696801647412.\u001b[0m\n",
      "\u001b[32m[I 2020-11-14 14:46:23,672]\u001b[0m Trial 278 finished with value: 0.6638633854012858 and parameters: {'lambda_l1': 1.6968336225580713e-05, 'lambda_l2': 2.14772225760146e-05, 'num_leaves': 252, 'feature_fraction': 0.6975751708753944, 'bagging_fraction': 0.6419099292269539, 'bagging_freq': 7, 'min_child_samples': 99, 'max_depth': 47}. Best is trial 69 with value: 0.6864696801647412.\u001b[0m\n",
      "\u001b[32m[I 2020-11-14 14:46:24,657]\u001b[0m Trial 279 finished with value: 0.6577173276323048 and parameters: {'lambda_l1': 5.2138986177508546e-05, 'lambda_l2': 0.2851666428669892, 'num_leaves': 121, 'feature_fraction': 0.7081204894201563, 'bagging_fraction': 0.552774968736625, 'bagging_freq': 7, 'min_child_samples': 92, 'max_depth': 51}. Best is trial 69 with value: 0.6864696801647412.\u001b[0m\n",
      "\u001b[32m[I 2020-11-14 14:46:25,774]\u001b[0m Trial 280 finished with value: 0.6759118392369522 and parameters: {'lambda_l1': 0.00012827984403290688, 'lambda_l2': 0.3459793577983767, 'num_leaves': 256, 'feature_fraction': 0.7205965045523594, 'bagging_fraction': 0.580443179520731, 'bagging_freq': 7, 'min_child_samples': 95, 'max_depth': 48}. Best is trial 69 with value: 0.6864696801647412.\u001b[0m\n",
      "\u001b[32m[I 2020-11-14 14:46:26,837]\u001b[0m Trial 281 finished with value: 0.6738470711634106 and parameters: {'lambda_l1': 7.118357524954624e-05, 'lambda_l2': 0.3942745443336037, 'num_leaves': 256, 'feature_fraction': 0.6842664032761625, 'bagging_fraction': 0.5751147313883814, 'bagging_freq': 7, 'min_child_samples': 92, 'max_depth': 45}. Best is trial 69 with value: 0.6864696801647412.\u001b[0m\n",
      "\u001b[32m[I 2020-11-14 14:46:27,932]\u001b[0m Trial 282 finished with value: 0.6533212952835906 and parameters: {'lambda_l1': 0.00011605806684855903, 'lambda_l2': 0.1329269879464742, 'num_leaves': 216, 'feature_fraction': 0.7154325123430784, 'bagging_fraction': 0.5901368671960365, 'bagging_freq': 7, 'min_child_samples': 96, 'max_depth': 48}. Best is trial 69 with value: 0.6864696801647412.\u001b[0m\n",
      "\u001b[32m[I 2020-11-14 14:46:29,219]\u001b[0m Trial 283 finished with value: 0.6638289789415137 and parameters: {'lambda_l1': 0.0001417640883949141, 'lambda_l2': 0.3245110185753527, 'num_leaves': 222, 'feature_fraction': 0.8041755264926629, 'bagging_fraction': 0.5824724818163594, 'bagging_freq': 7, 'min_child_samples': 95, 'max_depth': 49}. Best is trial 69 with value: 0.6864696801647412.\u001b[0m\n",
      "\u001b[32m[I 2020-11-14 14:46:30,292]\u001b[0m Trial 284 finished with value: 0.6694790733031631 and parameters: {'lambda_l1': 3.229341218757094e-05, 'lambda_l2': 0.44347245780328187, 'num_leaves': 232, 'feature_fraction': 0.724971295103259, 'bagging_fraction': 0.5669590951319978, 'bagging_freq': 7, 'min_child_samples': 97, 'max_depth': 53}. Best is trial 69 with value: 0.6864696801647412.\u001b[0m\n"
     ]
    },
    {
     "name": "stderr",
     "output_type": "stream",
     "text": [
      "\u001b[32m[I 2020-11-14 14:46:31,325]\u001b[0m Trial 285 finished with value: 0.6506863828606214 and parameters: {'lambda_l1': 0.013651175621343789, 'lambda_l2': 0.16667608063374523, 'num_leaves': 256, 'feature_fraction': 0.6948522485620997, 'bagging_fraction': 0.5261264925687139, 'bagging_freq': 7, 'min_child_samples': 91, 'max_depth': 50}. Best is trial 69 with value: 0.6864696801647412.\u001b[0m\n",
      "\u001b[32m[I 2020-11-14 14:46:32,387]\u001b[0m Trial 286 finished with value: 0.6670344117587824 and parameters: {'lambda_l1': 9.946303352468245e-05, 'lambda_l2': 0.00013415807427891903, 'num_leaves': 226, 'feature_fraction': 0.704255752170895, 'bagging_fraction': 0.5451590852256176, 'bagging_freq': 7, 'min_child_samples': 89, 'max_depth': 50}. Best is trial 69 with value: 0.6864696801647412.\u001b[0m\n",
      "\u001b[32m[I 2020-11-14 14:46:33,361]\u001b[0m Trial 287 finished with value: 0.6698772478516734 and parameters: {'lambda_l1': 8.23801338341192e-05, 'lambda_l2': 0.5847874255565941, 'num_leaves': 244, 'feature_fraction': 0.44357497830827985, 'bagging_fraction': 0.569024242015238, 'bagging_freq': 7, 'min_child_samples': 88, 'max_depth': 46}. Best is trial 69 with value: 0.6864696801647412.\u001b[0m\n",
      "\u001b[32m[I 2020-11-14 14:46:34,266]\u001b[0m Trial 288 finished with value: 0.6480139408056776 and parameters: {'lambda_l1': 0.3790691058715422, 'lambda_l2': 0.0029604599127041184, 'num_leaves': 236, 'feature_fraction': 0.46277108907613984, 'bagging_fraction': 0.599718603135831, 'bagging_freq': 7, 'min_child_samples': 94, 'max_depth': 48}. Best is trial 69 with value: 0.6864696801647412.\u001b[0m\n",
      "\u001b[32m[I 2020-11-14 14:46:35,550]\u001b[0m Trial 289 finished with value: 0.661038922654647 and parameters: {'lambda_l1': 1.2224526465202029e-08, 'lambda_l2': 5.322821980289077e-06, 'num_leaves': 96, 'feature_fraction': 0.7195264041196795, 'bagging_fraction': 0.6948941403846681, 'bagging_freq': 7, 'min_child_samples': 85, 'max_depth': 43}. Best is trial 69 with value: 0.6864696801647412.\u001b[0m\n",
      "\u001b[32m[I 2020-11-14 14:46:36,790]\u001b[0m Trial 290 finished with value: 0.6648391828649945 and parameters: {'lambda_l1': 0.00018596045111901214, 'lambda_l2': 0.0075445793649520105, 'num_leaves': 250, 'feature_fraction': 0.6740980833993444, 'bagging_fraction': 0.7537671778516892, 'bagging_freq': 1, 'min_child_samples': 99, 'max_depth': 53}. Best is trial 69 with value: 0.6864696801647412.\u001b[0m\n",
      "\u001b[32m[I 2020-11-14 14:46:37,909]\u001b[0m Trial 291 finished with value: 0.6757360173551746 and parameters: {'lambda_l1': 2.4933651107145904e-05, 'lambda_l2': 0.0007445757252544467, 'num_leaves': 229, 'feature_fraction': 0.6370866206007639, 'bagging_fraction': 0.5547769048775735, 'bagging_freq': 1, 'min_child_samples': 76, 'max_depth': 89}. Best is trial 69 with value: 0.6864696801647412.\u001b[0m\n",
      "\u001b[32m[I 2020-11-14 14:46:38,908]\u001b[0m Trial 292 finished with value: 0.670545312059374 and parameters: {'lambda_l1': 2.4863222540344058e-05, 'lambda_l2': 0.0007528557739577044, 'num_leaves': 155, 'feature_fraction': 0.6408445986272202, 'bagging_fraction': 0.5552376966490393, 'bagging_freq': 1, 'min_child_samples': 92, 'max_depth': 49}. Best is trial 69 with value: 0.6864696801647412.\u001b[0m\n",
      "\u001b[32m[I 2020-11-14 14:46:40,018]\u001b[0m Trial 293 finished with value: 0.6666968515596549 and parameters: {'lambda_l1': 5.2611536251242984e-05, 'lambda_l2': 0.0011300582603511287, 'num_leaves': 219, 'feature_fraction': 0.6560218487849502, 'bagging_fraction': 0.5331638936465407, 'bagging_freq': 1, 'min_child_samples': 74, 'max_depth': 89}. Best is trial 69 with value: 0.6864696801647412.\u001b[0m\n",
      "\u001b[32m[I 2020-11-14 14:46:41,225]\u001b[0m Trial 294 finished with value: 0.663554076382307 and parameters: {'lambda_l1': 2.1546631149993068e-05, 'lambda_l2': 0.0002762167322951712, 'num_leaves': 229, 'feature_fraction': 0.6314754589375705, 'bagging_fraction': 0.5793518484868985, 'bagging_freq': 1, 'min_child_samples': 76, 'max_depth': 41}. Best is trial 69 with value: 0.6864696801647412.\u001b[0m\n",
      "\u001b[32m[I 2020-11-14 14:46:42,292]\u001b[0m Trial 295 finished with value: 0.6676145545644262 and parameters: {'lambda_l1': 1.2987522538974434e-05, 'lambda_l2': 0.0005220621376292365, 'num_leaves': 241, 'feature_fraction': 0.6502109639253313, 'bagging_fraction': 0.5622469635248105, 'bagging_freq': 1, 'min_child_samples': 87, 'max_depth': 87}. Best is trial 69 with value: 0.6864696801647412.\u001b[0m\n",
      "\u001b[32m[I 2020-11-14 14:46:42,844]\u001b[0m Trial 296 finished with value: 0.6550757892883431 and parameters: {'lambda_l1': 8.926419947086271e-05, 'lambda_l2': 0.0007739213759638177, 'num_leaves': 256, 'feature_fraction': 0.624547100818336, 'bagging_fraction': 0.545926994636657, 'bagging_freq': 1, 'min_child_samples': 89, 'max_depth': 2}. Best is trial 69 with value: 0.6864696801647412.\u001b[0m\n",
      "\u001b[32m[I 2020-11-14 14:46:44,210]\u001b[0m Trial 297 finished with value: 0.6732271418573738 and parameters: {'lambda_l1': 3.302541398085647e-05, 'lambda_l2': 0.001872863291062643, 'num_leaves': 223, 'feature_fraction': 0.5897497762725592, 'bagging_fraction': 0.5844096868404711, 'bagging_freq': 1, 'min_child_samples': 57, 'max_depth': 93}. Best is trial 69 with value: 0.6864696801647412.\u001b[0m\n",
      "\u001b[32m[I 2020-11-14 14:46:45,387]\u001b[0m Trial 298 finished with value: 0.6528598523819998 and parameters: {'lambda_l1': 4.996552574318265e-05, 'lambda_l2': 0.0005615082048760866, 'num_leaves': 248, 'feature_fraction': 0.5542513610927927, 'bagging_fraction': 0.7356778827846882, 'bagging_freq': 1, 'min_child_samples': 90, 'max_depth': 83}. Best is trial 69 with value: 0.6864696801647412.\u001b[0m\n",
      "\u001b[32m[I 2020-11-14 14:46:46,393]\u001b[0m Trial 299 finished with value: 0.6677839955706314 and parameters: {'lambda_l1': 0.7095237941052501, 'lambda_l2': 0.001479343595890106, 'num_leaves': 167, 'feature_fraction': 0.7085717654127394, 'bagging_fraction': 0.5590699391233297, 'bagging_freq': 1, 'min_child_samples': 86, 'max_depth': 86}. Best is trial 69 with value: 0.6864696801647412.\u001b[0m\n"
     ]
    },
    {
     "name": "stdout",
     "output_type": "stream",
     "text": [
      "Number of finished trials: 300\n",
      "Best trial:\n",
      "  Value: 0.6864696801647412\n",
      "  Params: \n",
      "    lambda_l1: 3.7838762230735277e-06\n",
      "    lambda_l2: 5.533558574907331\n",
      "    num_leaves: 204\n",
      "    feature_fraction: 0.7625087163682107\n",
      "    bagging_fraction: 0.6117164024996633\n",
      "    bagging_freq: 6\n",
      "    min_child_samples: 47\n",
      "    max_depth: 61\n"
     ]
    }
   ],
   "source": [
    "def objective_lgb(trial):\n",
    "    dtrain = lgb.Dataset(X_train, label=y_train)\n",
    "\n",
    "    param = {\n",
    "        \"objective\": \"multiclass\",\n",
    "        \"metric\": \"multi_logloss\",\n",
    "        \"num_classes\": 3,\n",
    "        \"verbosity\": -1,\n",
    "        \"boosting_type\": \"gbdt\",\n",
    "        \"lambda_l1\": trial.suggest_float(\"lambda_l1\", 1e-8, 10.0, log=True),\n",
    "        \"lambda_l2\": trial.suggest_float(\"lambda_l2\", 1e-8, 10.0, log=True),\n",
    "        \"num_leaves\": trial.suggest_int(\"num_leaves\", 2, 256),\n",
    "        \"feature_fraction\": trial.suggest_float(\"feature_fraction\", 0.4, 1.0),\n",
    "        \"bagging_fraction\": trial.suggest_float(\"bagging_fraction\", 0.4, 1.0),\n",
    "        \"bagging_freq\": trial.suggest_int(\"bagging_freq\", 1, 7),\n",
    "        \"min_child_samples\": trial.suggest_int(\"min_child_samples\", 5, 100),\n",
    "        \"max_depth\": trial.suggest_int(\"max_depth\", 2, 100)\n",
    "    }\n",
    "\n",
    "    gbm = lgb.train(param, dtrain)\n",
    "    preds = gbm.predict(X_val)\n",
    "    pred_labels = np.argmax(preds, axis=1)\n",
    "    labels = [0, 1, 2]\n",
    "    auc = roc_auc_score(label_binarize(y_val.values, classes=labels), label_binarize(pred_labels, classes=labels))\n",
    "    return auc\n",
    "\n",
    "study_lgb = optuna.create_study(direction=\"maximize\")\n",
    "study_lgb.optimize(objective_lgb, n_trials=300)\n",
    "\n",
    "print(\"Number of finished trials: {}\".format(len(study_lgb.trials)))\n",
    "print(\"Best trial:\")\n",
    "lgb_best_trial = study_lgb.best_trial\n",
    "print(\"  Value: {}\".format(lgb_best_trial.value))\n",
    "print(\"  Params: \")\n",
    "for key, value in lgb_best_trial.params.items():\n",
    "    print(\"    {}: {}\".format(key, value))"
   ]
  },
  {
   "cell_type": "code",
   "execution_count": 9,
   "metadata": {},
   "outputs": [],
   "source": [
    "lgb_params = {\n",
    "    **{\n",
    "    \"objective\": \"multiclass\",\n",
    "    \"metric\": \"multi_logloss\",\n",
    "    \"num_classes\": 3,\n",
    "    \"verbosity\": -1,\n",
    "    \"boosting_type\": \"gbdt\"},\n",
    "    **lgb_best_trial.params}"
   ]
  },
  {
   "cell_type": "markdown",
   "metadata": {},
   "source": [
    "# Training, Testing and Metrics\n",
    "\n",
    "For precision, recall and F1 score, macro-averaged results are presented. The micro-averaged equivalents are equal to accuracy."
   ]
  },
  {
   "cell_type": "code",
   "execution_count": 10,
   "metadata": {},
   "outputs": [],
   "source": [
    "lgb_train = lgb.Dataset(X_train, label=y_train)\n",
    "lgb_clf = lgb.train(lgb_params, lgb_train, 100)\n",
    "lgb_pred = lgb_clf.predict(X_test)\n",
    "lgb_pred = [np.argmax(i) for i in lgb_pred]"
   ]
  },
  {
   "cell_type": "code",
   "execution_count": 11,
   "metadata": {},
   "outputs": [
    {
     "name": "stdout",
     "output_type": "stream",
     "text": [
      "Accuracy: 0.7104851\n",
      "Precision (macro): 0.6722978\n",
      "Recall (macro): 0.54913\n",
      "F1 score (macro): 0.5797378\n",
      "AUC: 0.66919\n"
     ]
    }
   ],
   "source": [
    "labels = [0,1,2]\n",
    "print(\"Accuracy: %.7f\" %accuracy_score(y_test, lgb_pred))\n",
    "print(\"Precision (macro): %.7f\" %precision_score(y_test, lgb_pred, average=\"macro\"))\n",
    "print(\"Recall (macro): %.5f\" %recall_score(y_test, lgb_pred, average=\"macro\"))\n",
    "print(\"F1 score (macro): %.7f\" %f1_score(y_test, lgb_pred, average=\"macro\"))\n",
    "print(\"AUC: %.5f\" %roc_auc_score(label_binarize(y_test.values, classes=labels), \n",
    "                                 label_binarize(lgb_pred, classes=labels)))"
   ]
  },
  {
   "cell_type": "markdown",
   "metadata": {},
   "source": [
    "# Submission Predictions"
   ]
  },
  {
   "cell_type": "code",
   "execution_count": 12,
   "metadata": {},
   "outputs": [],
   "source": [
    "sub = pd.read_csv(\"news_headlines_test_sample_submission.csv\")"
   ]
  },
  {
   "cell_type": "code",
   "execution_count": 13,
   "metadata": {},
   "outputs": [
    {
     "name": "stdout",
     "output_type": "stream",
     "text": [
      "WARNING:tensorflow:5 out of the last 5 calls to <function recreate_function.<locals>.restored_function_body at 0x00000245083C1430> triggered tf.function retracing. Tracing is expensive and the excessive number of tracings could be due to (1) creating @tf.function repeatedly in a loop, (2) passing tensors with different shapes, (3) passing Python objects instead of tensors. For (1), please define your @tf.function outside of the loop. For (2), @tf.function has experimental_relax_shapes=True option that relaxes argument shapes that can avoid unnecessary retracing. For (3), please refer to https://www.tensorflow.org/tutorials/customization/performance#python_or_tensor_args and https://www.tensorflow.org/api_docs/python/tf/function for  more details.\n"
     ]
    },
    {
     "name": "stderr",
     "output_type": "stream",
     "text": [
      "WARNING:tensorflow:5 out of the last 5 calls to <function recreate_function.<locals>.restored_function_body at 0x00000245083C1430> triggered tf.function retracing. Tracing is expensive and the excessive number of tracings could be due to (1) creating @tf.function repeatedly in a loop, (2) passing tensors with different shapes, (3) passing Python objects instead of tensors. For (1), please define your @tf.function outside of the loop. For (2), @tf.function has experimental_relax_shapes=True option that relaxes argument shapes that can avoid unnecessary retracing. For (3), please refer to https://www.tensorflow.org/tutorials/customization/performance#python_or_tensor_args and https://www.tensorflow.org/api_docs/python/tf/function for  more details.\n"
     ]
    },
    {
     "name": "stdout",
     "output_type": "stream",
     "text": [
      "WARNING:tensorflow:6 out of the last 6 calls to <function recreate_function.<locals>.restored_function_body at 0x00000245083C19D0> triggered tf.function retracing. Tracing is expensive and the excessive number of tracings could be due to (1) creating @tf.function repeatedly in a loop, (2) passing tensors with different shapes, (3) passing Python objects instead of tensors. For (1), please define your @tf.function outside of the loop. For (2), @tf.function has experimental_relax_shapes=True option that relaxes argument shapes that can avoid unnecessary retracing. For (3), please refer to https://www.tensorflow.org/tutorials/customization/performance#python_or_tensor_args and https://www.tensorflow.org/api_docs/python/tf/function for  more details.\n"
     ]
    },
    {
     "name": "stderr",
     "output_type": "stream",
     "text": [
      "WARNING:tensorflow:6 out of the last 6 calls to <function recreate_function.<locals>.restored_function_body at 0x00000245083C19D0> triggered tf.function retracing. Tracing is expensive and the excessive number of tracings could be due to (1) creating @tf.function repeatedly in a loop, (2) passing tensors with different shapes, (3) passing Python objects instead of tensors. For (1), please define your @tf.function outside of the loop. For (2), @tf.function has experimental_relax_shapes=True option that relaxes argument shapes that can avoid unnecessary retracing. For (3), please refer to https://www.tensorflow.org/tutorials/customization/performance#python_or_tensor_args and https://www.tensorflow.org/api_docs/python/tf/function for  more details.\n"
     ]
    }
   ],
   "source": [
    "# preprocessing\n",
    "\n",
    "sub_proc = process_text(sub, \"text\")\n",
    "sub_eng = feature_engineer(sub_proc)\n",
    "sub1 = sub_eng.drop([\"text\", \"sentiment\", \"token\"], axis=1)"
   ]
  },
  {
   "cell_type": "code",
   "execution_count": 14,
   "metadata": {},
   "outputs": [],
   "source": [
    "# prediction\n",
    "\n",
    "sub_pred = lgb_clf.predict(sub1)\n",
    "sub_pred = [np.argmax(i)-1 for i in sub_pred]"
   ]
  },
  {
   "cell_type": "code",
   "execution_count": 15,
   "metadata": {},
   "outputs": [],
   "source": [
    "submission = sub.copy()\n",
    "submission[\"sentiment\"] = sub_pred"
   ]
  },
  {
   "cell_type": "code",
   "execution_count": 16,
   "metadata": {},
   "outputs": [],
   "source": [
    "submission.to_csv(\"submission.csv\", index=False)"
   ]
  }
 ],
 "metadata": {
  "kernelspec": {
   "display_name": "pdtdet",
   "language": "python",
   "name": "pdtdet"
  },
  "language_info": {
   "codemirror_mode": {
    "name": "ipython",
    "version": 3
   },
   "file_extension": ".py",
   "mimetype": "text/x-python",
   "name": "python",
   "nbconvert_exporter": "python",
   "pygments_lexer": "ipython3",
   "version": "3.8.3"
  }
 },
 "nbformat": 4,
 "nbformat_minor": 4
}
